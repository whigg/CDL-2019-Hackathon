{
 "cells": [
  {
   "cell_type": "markdown",
   "metadata": {},
   "source": [
    "# Graph Coloring with Gaussian Boson Sampling"
   ]
  },
  {
   "cell_type": "markdown",
   "metadata": {},
   "source": [
    "Here we demonstrate some graph colorings aided by GBS on Xanadu's simulator"
   ]
  },
  {
   "cell_type": "markdown",
   "metadata": {},
   "source": [
    "### Copy and paste some useful unreleased Xanadu functions for finding subgraphs"
   ]
  },
  {
   "cell_type": "code",
   "execution_count": 1,
   "metadata": {
    "collapsed": false
   },
   "outputs": [
    {
     "data": {
      "text/plain": [
       "'Dict[str, func]: Included methods for finding dense subgraphs. The dictionary keys are strings\\ndescribing the method, while the dictionary values are callable functions corresponding to the\\nmethod.'"
      ]
     },
     "execution_count": 1,
     "metadata": {},
     "output_type": "execute_result"
    }
   ],
   "source": [
    "# Copyright 2019 Xanadu Quantum Technologies Inc.\n",
    "r\"\"\"\n",
    "Dense subgraph identification\n",
    "=============================\n",
    "\n",
    "**Module name:** :mod:`gbsapps.graph.dense_subgraph`\n",
    "\n",
    ".. currentmodule:: gbsapps.graph.dense_subgraph\n",
    "\n",
    "The frontend module for users to find dense subgraphs. The :func:`find_dense_subgraph` function\n",
    "provides approximate solutions to the densest-:math:`k` subgraph problem\n",
    ":cite:`arrazola2018using`, which is NP-hard. This problem considers a graph :math:`G = (V,\n",
    "E)` of :math:`N` nodes :math:`V` and a list of edges :math:`E`, and sets the objective of finding a\n",
    ":math:`k`-vertex subgraph with the greatest density. In this setting, subgraphs :math:`G[S]` are\n",
    "defined by nodes :math:`S \\subset V` and corresponding edges :math:`E_{S} \\subseteq E` that\n",
    "have both endpoints in :math:`S`. The density of a subgraph is given by\n",
    "\n",
    ".. math:: d(G[S]) = \\frac{2 |E_{S}|}{|S|(|S|-1)},\n",
    "\n",
    "where :math:`|\\cdot|` denotes cardinality, and the densest-:math:`k` subgraph problem can be\n",
    "written\n",
    "succinctly as\n",
    "\n",
    ".. math:: {\\rm argmax}_{S \\in \\mathcal{S}_{k}} d(G[S])\n",
    "\n",
    "with :math:`\\mathcal{S}_{k}` the set of all possible :math:`k` node subgraphs. This problem grows\n",
    "combinatorially with :math:`{N \\choose k}` and is NP-hard in the worst case.\n",
    "\n",
    "The :func:`find_dense_subgraph` function provides access to heuristic algorithms for finding\n",
    "approximate solutions. At present, random search is the heuristic algorithm provided, accessible\n",
    "through the :func:`random_search` function. This algorithm proceeds by randomly generating a set\n",
    "of :math:`k` vertex subgraphs and selecting the densest. Sampling of subgraphs can be achieved\n",
    "both uniformly at random and also with a quantum sampler programmed to be biased toward\n",
    "outputting dense subgraphs.\n",
    "\n",
    "Summary\n",
    "-------\n",
    "\n",
    ".. autosummary::\n",
    "    METHOD_DICT\n",
    "    find_dense_subgraph\n",
    "    random_search\n",
    "\n",
    "Code details\n",
    "------------\n",
    "\"\"\"\n",
    "import functools\n",
    "from typing import Callable, Union, Tuple\n",
    "import networkx as nx\n",
    "\n",
    "from gbsapps.graph.graph_sample import dense_subgraph_sampler_gbs, uniform_subgraph_sampler\n",
    "from gbsapps.graph.functions import to_networkx_graph, graph_type\n",
    "\n",
    "\n",
    "# pylint: disable=too-many-arguments\n",
    "#[docs]\n",
    "def find_dense_subgraph(\n",
    "    graph: graph_type,\n",
    "    number_of_nodes: int,\n",
    "    iterations: int = 1,\n",
    "    method: Union[str, Callable] = \"random-search\",\n",
    "    remote: bool = False,\n",
    "    backend: str = \"gaussian\",\n",
    ") -> Tuple[float, list]:\n",
    "    \"\"\"Functionality for finding dense `node-induced subgraphs\n",
    "    <http://mathworld.wolfram.com/Vertex-InducedSubgraph.html>`__ of a given size.\n",
    "\n",
    "    The user is able to specify a stochastic algorithm as a method for optimization. Furthermore,\n",
    "    the form of randomness used (e.g., GBS sampling or uniform sampling) in the stochastic\n",
    "    algorithm can also be specified by setting a backend sampler. This sampling can be performed\n",
    "    locally or remotely.\n",
    "\n",
    "    Methods are set with the ``methods`` argument. The available methods are:\n",
    "\n",
    "    - ``\"random-search\"``: a simple random search algorithm where many subgraphs are selected and\n",
    "      the densest one is chosen (default).\n",
    "\n",
    "    Backends are set with the ``backend`` argument. They include the quantum backends\n",
    "    given in :meth:`gbsapps.sample.QUANTUM_BACKENDS` as well as a ``\"uniform\"`` sampler backend.\n",
    "    The available backends are:\n",
    "\n",
    "    - ``\"gaussian\"``: allowing subgraph samples to be simulated using the Gaussian backend of Strawberry Fields (default)\n",
    "    - ``\"uniform\"``: allowing subgraph samples to be generated with a uniform distribution using\n",
    "      the :func:`~gbsapps.graph.graph_sample.uniform_subgraph_sampler` function\n",
    "\n",
    "    Args:\n",
    "        graph (graph_type): the input graph\n",
    "        number_of_nodes (int): the size of desired dense subgraph\n",
    "        iterations (int): number of iterations to use in algorithm\n",
    "        method (str or function): either a string selecting from a range of available methods or a\n",
    "            customized callable function. Defaults to ``\"random-search\"``.\n",
    "        remote (bool): Performs sampling on a remote server if ``True``. Remote sampling is required\n",
    "            for sampling on hardware and is not available with the ``\"uniform\"`` backend. If not\n",
    "            specified, sampling will be performed\n",
    "            locally.\n",
    "        backend (str): requested backend for sampling; defaults to the ``\"gaussian\"`` backend\n",
    "\n",
    "    Returns:\n",
    "        (float, list): the density and list of nodes corresponding to the densest subgraph found\n",
    "    \"\"\"\n",
    "    if backend == \"uniform\":\n",
    "        sampler = uniform_subgraph_sampler\n",
    "    else:\n",
    "        sampler = functools.partial(dense_subgraph_sampler_gbs, remote=remote, backend=backend)\n",
    "\n",
    "    if not callable(method):\n",
    "        if method in METHOD_DICT:\n",
    "            method = METHOD_DICT[method]\n",
    "        else:\n",
    "            raise Exception(\"Optimization method must be callable or a valid string\")\n",
    "\n",
    "    return method(to_networkx_graph(graph), number_of_nodes, sampler, iterations=iterations)\n",
    "\n",
    "\n",
    "\n",
    "#[docs]\n",
    "def random_search(\n",
    "    graph: nx.Graph, number_of_nodes: int, sampler: Callable, iterations: int = 1\n",
    ") -> Tuple[float, list]:\n",
    "    \"\"\"Random search algorithm for finding dense subgraphs of a given size.\n",
    "\n",
    "    The algorithm proceeds by sampling subgraphs according to the function ``sampler``. The\n",
    "    sampled subgraphs are of size ``number_of_nodes``. The densest subgraph is then selected\n",
    "    among all the samples.\n",
    "\n",
    "    Args:\n",
    "        graph (nx.Graph): the input graph\n",
    "        number_of_nodes (int): the size of desired dense subgraph\n",
    "        sampler (function): a function which returns a given number of samples of subgraphs of a\n",
    "            given size. Must accept arguments in the form: ``(graph: nx.Graph, sampled_nodes: int,\n",
    "            samples: int = 1)``.\n",
    "        iterations (int): number of iterations to use in algorithm\n",
    "\n",
    "    Returns:\n",
    "        (float, list): the density and list of nodes corresponding to the densest subgraph found\n",
    "    \"\"\"\n",
    "    output_samples = sampler(graph, number_of_nodes, iterations)\n",
    "\n",
    "    density_and_samples = [(nx.density(graph.subgraph(s)), s) for s in output_samples]\n",
    "\n",
    "    return max(density_and_samples)\n",
    "\n",
    "\n",
    "\n",
    "METHOD_DICT = {\"random-search\": random_search}\n",
    "\"\"\"Dict[str, func]: Included methods for finding dense subgraphs. The dictionary keys are strings\n",
    "describing the method, while the dictionary values are callable functions corresponding to the\n",
    "method.\"\"\""
   ]
  },
  {
   "cell_type": "code",
   "execution_count": 2,
   "metadata": {
    "collapsed": false
   },
   "outputs": [],
   "source": [
    "# Copyright 2019 Xanadu Quantum Technologies Inc.\n",
    "r\"\"\"\n",
    "Graph functions\n",
    "===============\n",
    "\n",
    "**Module name:** :mod:`gbsapps.graph.functions`\n",
    "\n",
    ".. currentmodule:: gbsapps.graph.functions\n",
    "\n",
    "This module provides some ancillary functions for dealing with graphs. This includes\n",
    ":func:`is_adjacency` to check if an input matrix is symmetric and :func:`subgraph_adjacency` to\n",
    "return the adjacency matrix of a subgraph when an input graph and subset of nodes is specified.\n",
    "\n",
    "Furthermore, the frontend :func:`~gbsapps.graph.dense_subgraph.find_dense_subgraph` function\n",
    "allows users to input graphs both as a `NumPy <https://www.numpy.org/>`__ array containing the\n",
    "adjacency matrix and as a `NetworkX <https://networkx.github.io/>`__ ``Graph`` object. The\n",
    ":func:`to_networkx_graph` function allows both inputs to be processed into a NetworkX Graph for\n",
    "ease of processing in GBSApps.\n",
    "\n",
    "Summary\n",
    "-------\n",
    "\n",
    ".. autosummary::\n",
    "    is_adjacency\n",
    "    subgraph_adjacency\n",
    "    to_networkx_graph\n",
    "\n",
    "Code details\n",
    "------------\n",
    "\"\"\"\n",
    "from typing import Union\n",
    "\n",
    "import networkx as nx\n",
    "import numpy as np\n",
    "\n",
    "graph_type = Union[nx.Graph, np.ndarray]\n",
    "\n",
    "\n",
    "#[docs]\n",
    "def to_networkx_graph(graph: graph_type) -> nx.Graph:\n",
    "    \"\"\"Converts input graph into a NetworkX graph.\n",
    "\n",
    "    Given an input graph of type ``graph_type = Union[nx.Graph, np.ndarray]``, this function\n",
    "    outputs a NetworkX graph of type ``nx.Graph``. The input ``np.ndarray`` must be an adjacency\n",
    "    matrix (i.e., satisfy :func:`is_adjacency`) and also real.\n",
    "\n",
    "    Args:\n",
    "        graph (graph_type): input graph to be processed\n",
    "\n",
    "    Returns:\n",
    "        graph: the NetworkX graph corresponding to the input\n",
    "    \"\"\"\n",
    "\n",
    "    if isinstance(graph, np.ndarray):\n",
    "        if not is_adjacency(graph) or not np.allclose(graph, graph.conj()):\n",
    "            raise ValueError(\"Adjacency matrix must be real and symmetric\")\n",
    "\n",
    "        graph = nx.Graph(graph)\n",
    "\n",
    "    elif not isinstance(graph, nx.Graph):\n",
    "        raise TypeError(\"Graph is not of valid type\")\n",
    "\n",
    "    return graph\n",
    "\n",
    "\n",
    "\n",
    "#[docs]\n",
    "def is_adjacency(mat: np.ndarray) -> bool:\n",
    "    \"\"\"Checks if input is an adjacency matrix, i.e., symmetric.\n",
    "\n",
    "    Args:\n",
    "        mat (array): input matrix to be checked\n",
    "\n",
    "    Returns:\n",
    "        bool: returns ``True`` if input array is an adjacency matrix and ``False`` otherwise\n",
    "    \"\"\"\n",
    "\n",
    "    if not isinstance(mat, np.ndarray):\n",
    "        raise TypeError(\"Input matrix must be a numpy array\")\n",
    "\n",
    "    dims = mat.shape\n",
    "\n",
    "    conditions = len(dims) == 2 and dims[0] == dims[1] and dims[0] > 1 and np.allclose(mat, mat.T)\n",
    "\n",
    "    return conditions\n",
    "\n",
    "\n",
    "\n",
    "#[docs]\n",
    "def subgraph_adjacency(graph: graph_type, nodes: list) -> np.ndarray:\n",
    "    \"\"\"Give adjacency matrix of a subgraph\n",
    "\n",
    "    Given a list of nodes selecting a subgraph, this function returns the corresponding adjacency\n",
    "    matrix.\n",
    "\n",
    "    Args:\n",
    "        graph (graph_type): the input graph\n",
    "        nodes (list): a list of nodes used to select the subgraph\n",
    "\n",
    "    Returns:\n",
    "        array: the adjacency matrix of the subgraph\n",
    "    \"\"\"\n",
    "    graph = to_networkx_graph(graph)\n",
    "    all_nodes = graph.nodes\n",
    "\n",
    "    if not set(nodes).issubset(all_nodes):\n",
    "        raise ValueError(\n",
    "            \"Must input a list of subgraph nodes that is contained within the nodes of the input \"\n",
    "            \"graph\"\n",
    "        )\n",
    "\n",
    "    return nx.to_numpy_array(graph.subgraph(nodes))\n",
    "\n",
    "\n",
    "\n",
    "# TODO: Functionality for plotting graphs and subgraphs"
   ]
  },
  {
   "cell_type": "markdown",
   "metadata": {},
   "source": [
    "### Import some useful packages"
   ]
  },
  {
   "cell_type": "code",
   "execution_count": 3,
   "metadata": {
    "collapsed": true
   },
   "outputs": [],
   "source": [
    "# useful additional packages\n",
    "import numpy as np\n",
    "import networkx as nx\n",
    "import matplotlib.pyplot as plt"
   ]
  },
  {
   "cell_type": "markdown",
   "metadata": {},
   "source": [
    "### Draw an example graph to color"
   ]
  },
  {
   "cell_type": "markdown",
   "metadata": {},
   "source": [
    "We have experimented and found that GBS really helps with triangular tesselated graphs"
   ]
  },
  {
   "cell_type": "code",
   "execution_count": 4,
   "metadata": {
    "collapsed": false
   },
   "outputs": [
    {
     "name": "stderr",
     "output_type": "stream",
     "text": [
      "/Library/Frameworks/Python.framework/Versions/3.6/lib/python3.6/site-packages/networkx/drawing/nx_pylab.py:579: MatplotlibDeprecationWarning: \n",
      "The iterable function was deprecated in Matplotlib 3.1 and will be removed in 3.3. Use np.iterable instead.\n"
     ]
    },
    {
     "data": {
      "image/png": "[encoded data removed]",
      "text/plain": [
       "<Figure size 432x288 with 1 Axes>"
      ]
     },
     "metadata": {},
     "output_type": "display_data"
    }
   ],
   "source": [
    "#G = nx.triangular_lattice_graph(1, 2, with_positions=False)\n",
    "G = nx.Graph()\n",
    "edges = [(0, 1), (1, 2), (2, 0), (2, 3), (3, 0), (3, 4), (4, 2)]\n",
    "nodes = list(range(4))\n",
    "G.add_edges_from(edges)\n",
    "G.add_nodes_from(nodes)\n",
    "\n",
    "\n",
    "# Let's draw this thing\n",
    "colors = ['beige' for node in G.nodes()]\n",
    "pos = nx.spring_layout(G)\n",
    "default_axes = plt.axes(frameon=True)\n",
    "nx.draw_networkx(G, node_color=colors, node_size=600, alpha=.8, ax=default_axes, pos=pos)"
   ]
  },
  {
   "cell_type": "markdown",
   "metadata": {},
   "source": [
    "### Start defining some functions we will need in our workflow"
   ]
  },
  {
   "cell_type": "code",
   "execution_count": 5,
   "metadata": {
    "collapsed": false
   },
   "outputs": [
    {
     "name": "stdout",
     "output_type": "stream",
     "text": [
      "[0, 2, 3, 4]\n",
      "[[0. 1. 1. 0.]\n",
      " [1. 0. 1. 1.]\n",
      " [1. 1. 0. 1.]\n",
      " [0. 1. 1. 0.]]\n"
     ]
    },
    {
     "data": {
      "text/plain": [
       "0.8333333333333334"
      ]
     },
     "execution_count": 5,
     "metadata": {},
     "output_type": "execute_result"
    }
   ],
   "source": [
    "def density_func(A):\n",
    "    dens = (np.sum(A)/2) / ((A.shape[0]*(A.shape[0]-1))/2)\n",
    "    return dens\n",
    "\n",
    "# Test\n",
    "'''\n",
    "_, G_new = find_dense_subgraph(G, 4)\n",
    "print(G_new)\n",
    "A = subgraph_adjacency(G, G_new)\n",
    "print(A)\n",
    "\n",
    "dens = density_func(A)\n",
    "dens\n",
    "'''"
   ]
  },
  {
   "cell_type": "code",
   "execution_count": 6,
   "metadata": {
    "collapsed": false
   },
   "outputs": [
    {
     "data": {
      "text/plain": [
       "0"
      ]
     },
     "execution_count": 6,
     "metadata": {},
     "output_type": "execute_result"
    }
   ],
   "source": [
    "def find_least_connected(A):\n",
    "    min_sum = float('inf')\n",
    "    for i in range(A.shape[0]):\n",
    "        if np.sum(A[i]) < min_sum:\n",
    "            min_sum = np.sum(A[i])\n",
    "            min_element = i\n",
    "    return min_element\n",
    "\n",
    "# Test\n",
    "#find_least_connected(A)"
   ]
  },
  {
   "cell_type": "code",
   "execution_count": 7,
   "metadata": {
    "collapsed": false
   },
   "outputs": [
    {
     "name": "stdout",
     "output_type": "stream",
     "text": [
      "[[0. 1. 1.]\n",
      " [1. 0. 1.]\n",
      " [1. 1. 0.]]\n",
      "\n",
      "[2 3 4]\n"
     ]
    }
   ],
   "source": [
    "def remove_node(A, n, nodes):\n",
    "    A_new = np.delete(A, n, 1)\n",
    "    A_new = np.delete(A_new, n, 0)\n",
    "    nodes_new = np.delete(nodes,n)\n",
    "    return A_new, nodes_new\n",
    "\n",
    "\n",
    "# Test\n",
    "'''\n",
    "A_new, nodes_new = remove_node(A, find_least_connected(A), G_new)\n",
    "print(A_new)\n",
    "print('')\n",
    "print(nodes_new)\n",
    "'''"
   ]
  },
  {
   "cell_type": "code",
   "execution_count": 8,
   "metadata": {
    "collapsed": false
   },
   "outputs": [
    {
     "name": "stdout",
     "output_type": "stream",
     "text": [
      "[0. 0. 1. 2. 3.]\n"
     ]
    }
   ],
   "source": [
    "def paint(A, colors, nodes):\n",
    "    totalpaint = colors[nodes[0]] + colors[nodes[1]] + colors[nodes[2]]\n",
    "    if totalpaint == 0:\n",
    "        colors[nodes[0]] = 1\n",
    "        colors[nodes[1]] = 2\n",
    "        colors[nodes[2]] = 3\n",
    "    elif totalpaint > 0 and totalpaint < 6:\n",
    "        if colors[nodes[0]] == 0:\n",
    "            colors[nodes[0]] = 6 - totalpaint\n",
    "        elif colors[nodes[1]] == 0:\n",
    "            colors[nodes[1]] = 6 - totalpaint\n",
    "        elif colors[nodes[2]] == 0:\n",
    "            colors[nodes[2]] = 6 - totalpaint\n",
    "    return colors\n",
    "\n",
    "# Test\n",
    "'''\n",
    "colors = np.zeros(len(G))\n",
    "colors_new = paint(A_new, colors, nodes_new)\n",
    "print(colors_new)\n",
    "'''"
   ]
  },
  {
   "cell_type": "code",
   "execution_count": 9,
   "metadata": {
    "collapsed": false
   },
   "outputs": [
    {
     "data": {
      "text/plain": [
       "False"
      ]
     },
     "execution_count": 9,
     "metadata": {},
     "output_type": "execute_result"
    }
   ],
   "source": [
    "def colorcheck(colors):\n",
    "    everythingcolored = True\n",
    "    i = 0\n",
    "    while everythingcolored and i < len(colors):\n",
    "        everythingcolored = colors[i] != 0\n",
    "        i += 1\n",
    "    return everythingcolored\n",
    "\n",
    "# Test\n",
    "#colorcheck([1,1,1,0])"
   ]
  },
  {
   "cell_type": "code",
   "execution_count": 10,
   "metadata": {
    "collapsed": false
   },
   "outputs": [
    {
     "name": "stdout",
     "output_type": "stream",
     "text": [
      "[0. 3. 1. 2. 3.]\n"
     ]
    }
   ],
   "source": [
    "def shrink(dens, A, nodes,colors):\n",
    "    while density_func(A) < dens and len(A)>0:\n",
    "        least_node = find_least_connected(A)\n",
    "        A, nodes = remove_node(A, least_node, nodes)\n",
    "    if A.size > 0:\n",
    "        colors = paint(A, colors, nodes)\n",
    "        return colors\n",
    "\n",
    "# Test\n",
    "'''\n",
    "dens = 1\n",
    "colors_new = shrink(dens, A, nodes, colors)\n",
    "print(colors_new)\n",
    "'''"
   ]
  },
  {
   "cell_type": "markdown",
   "metadata": {},
   "source": [
    "### Get coloring!"
   ]
  },
  {
   "cell_type": "markdown",
   "metadata": {},
   "source": [
    "This is where the magic happens. Using the GBS sampler, we obtain with high probability samples of dense subgraphs of our initial graph. We then feed these samples to a heuristic for determining the best coloring of the overall graph"
   ]
  },
  {
   "cell_type": "code",
   "execution_count": 15,
   "metadata": {
    "collapsed": false
   },
   "outputs": [
    {
     "name": "stdout",
     "output_type": "stream",
     "text": [
      "[1. 0. 2. 3. 0.]\n",
      "[1. 0. 2. 3. 1.]\n",
      "[1. 0. 2. 3. 1.]\n",
      "[1. 0. 2. 3. 1.]\n",
      "[1. 0. 2. 3. 1.]\n",
      "[1. 0. 2. 3. 1.]\n",
      "[1. 0. 2. 3. 1.]\n",
      "[1. 0. 2. 3. 1.]\n",
      "[1. 0. 2. 3. 1.]\n",
      "[1. 0. 2. 3. 1.]\n",
      "[1. 0. 2. 3. 1.]\n",
      "[1. 0. 2. 3. 1.]\n",
      "[1. 0. 2. 3. 1.]\n",
      "[1. 0. 2. 3. 1.]\n",
      "[1. 0. 2. 3. 1.]\n",
      "[1. 0. 2. 3. 1.]\n",
      "[1. 0. 2. 3. 1.]\n",
      "[1. 0. 2. 3. 1.]\n",
      "[1. 0. 2. 3. 1.]\n",
      "[1. 0. 2. 3. 1.]\n",
      "[1. 0. 2. 3. 1.]\n",
      "[1. 0. 2. 3. 1.]\n",
      "[1. 0. 2. 3. 1.]\n",
      "[1. 0. 2. 3. 1.]\n",
      "[1. 0. 2. 3. 1.]\n",
      "[1. 0. 2. 3. 1.]\n",
      "[1. 0. 2. 3. 1.]\n",
      "[1. 0. 2. 3. 1.]\n",
      "[1. 3. 2. 3. 1.]\n"
     ]
    }
   ],
   "source": [
    "colors = np.zeros(len(G.nodes))\n",
    "dens = 1\n",
    "everythingcolored = False\n",
    "while not everythingcolored:\n",
    "    _, G_new = find_dense_subgraph(G, 4)\n",
    "    A = subgraph_adjacency(G, G_new)\n",
    "    colors = shrink(dens, A, G_new, colors)\n",
    "    print(colors)\n",
    "    everythingcolored = colorcheck(colors)\n",
    "\n",
    "colors_final = colors    "
   ]
  },
  {
   "cell_type": "markdown",
   "metadata": {},
   "source": [
    "### Now we color our graph using the coloring we found:"
   ]
  },
  {
   "cell_type": "code",
   "execution_count": 16,
   "metadata": {
    "collapsed": false
   },
   "outputs": [
    {
     "data": {
      "image/png": "[encoded data removed]",
      "text/plain": [
       "<Figure size 432x288 with 1 Axes>"
      ]
     },
     "metadata": {},
     "output_type": "display_data"
    }
   ],
   "source": [
    "# Let's draw this thing\n",
    "colors_new = []\n",
    "for color in colors:\n",
    "    if int(color) == 1:\n",
    "        colors_new.append('r')\n",
    "    elif int(color) == 2:\n",
    "        colors_new.append('b')\n",
    "    elif int(color) == 3:\n",
    "        colors_new.append('g')\n",
    "\n",
    "pos = nx.spring_layout(G)\n",
    "default_axes = plt.axes(frameon=True)\n",
    "nx.draw_networkx(G, node_color=colors_new, node_size=600, alpha=.8, ax=default_axes, pos=pos)"
   ]
  },
  {
   "cell_type": "markdown",
   "metadata": {},
   "source": [
    "### Maybe we can try some other ones..."
   ]
  },
  {
   "cell_type": "code",
   "execution_count": 40,
   "metadata": {
    "collapsed": false
   },
   "outputs": [
    {
     "name": "stdout",
     "output_type": "stream",
     "text": [
      "[((0, 0), (1, 0)), ((0, 0), (0, 1)), ((1, 0), (2, 0)), ((1, 0), (1, 1)), ((1, 0), (0, 1)), ((2, 0), (1, 1)), ((0, 1), (1, 1)), ((0, 1), (0, 2)), ((0, 1), (1, 2)), ((1, 1), (1, 2)), ((1, 1), (2, 2)), ((0, 2), (1, 2)), ((0, 2), (0, 3)), ((1, 2), (2, 2)), ((1, 2), (1, 3)), ((1, 2), (0, 3)), ((2, 2), (1, 3)), ((0, 3), (1, 3))]\n"
     ]
    },
    {
     "data": {
      "image/png": "[encoded data removed]",
      "text/plain": [
       "<Figure size 432x288 with 1 Axes>"
      ]
     },
     "metadata": {},
     "output_type": "display_data"
    }
   ],
   "source": [
    "m = 3\n",
    "n = 3\n",
    "g = nx.triangular_lattice_graph(3, 3)\n",
    "nodes_new = list(range(len(g.nodes())))\n",
    "print(g.edges())\n",
    "edges_new = []\n",
    "for i in range(m):\n",
    "    for j in range(n):\n",
    "        g.\n",
    "\n",
    "\n",
    "\n",
    "pos = nx.spring_layout(g)\n",
    "default_axes = plt.axes(frameon=True)\n",
    "colors = ['y' for node in g.nodes()]\n",
    "nx.draw_networkx(g, node_color=colors, node_size=600, alpha=.8, ax=default_axes, pos=pos)\n"
   ]
  }
 ],
 "metadata": {
  "kernelspec": {
   "display_name": "Python 3",
   "language": "python",
   "name": "python3"
  },
  "language_info": {
   "codemirror_mode": {
    "name": "ipython",
    "version": 3
   },
   "file_extension": ".py",
   "mimetype": "text/x-python",
   "name": "python",
   "nbconvert_exporter": "python",
   "pygments_lexer": "ipython3",
   "version": "3.6.1"
  }
 },
 "nbformat": 4,
 "nbformat_minor": 2
}
