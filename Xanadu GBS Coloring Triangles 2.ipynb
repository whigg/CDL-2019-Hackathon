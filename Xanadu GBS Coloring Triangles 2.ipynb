{
 "cells": [
  {
   "cell_type": "markdown",
   "metadata": {},
   "source": [
    "# Graph Coloring with Gaussian Boson Sampling"
   ]
  },
  {
   "cell_type": "markdown",
   "metadata": {},
   "source": [
    "Here we demonstrate some graph colorings aided by GBS on Xanadu's simulator"
   ]
  },
  {
   "cell_type": "markdown",
   "metadata": {},
   "source": [
    "### Copy and paste some useful unreleased Xanadu functions for finding subgraphs"
   ]
  },
  {
   "cell_type": "code",
   "execution_count": 1,
   "metadata": {
    "collapsed": false
   },
   "outputs": [
    {
     "data": {
      "text/plain": [
       "'Dict[str, func]: Included methods for finding dense subgraphs. The dictionary keys are strings\\ndescribing the method, while the dictionary values are callable functions corresponding to the\\nmethod.'"
      ]
     },
     "execution_count": 1,
     "metadata": {},
     "output_type": "execute_result"
    }
   ],
   "source": [
    "# Copyright 2019 Xanadu Quantum Technologies Inc.\n",
    "r\"\"\"\n",
    "Dense subgraph identification\n",
    "=============================\n",
    "\n",
    "**Module name:** :mod:`gbsapps.graph.dense_subgraph`\n",
    "\n",
    ".. currentmodule:: gbsapps.graph.dense_subgraph\n",
    "\n",
    "The frontend module for users to find dense subgraphs. The :func:`find_dense_subgraph` function\n",
    "provides approximate solutions to the densest-:math:`k` subgraph problem\n",
    ":cite:`arrazola2018using`, which is NP-hard. This problem considers a graph :math:`G = (V,\n",
    "E)` of :math:`N` nodes :math:`V` and a list of edges :math:`E`, and sets the objective of finding a\n",
    ":math:`k`-vertex subgraph with the greatest density. In this setting, subgraphs :math:`G[S]` are\n",
    "defined by nodes :math:`S \\subset V` and corresponding edges :math:`E_{S} \\subseteq E` that\n",
    "have both endpoints in :math:`S`. The density of a subgraph is given by\n",
    "\n",
    ".. math:: d(G[S]) = \\frac{2 |E_{S}|}{|S|(|S|-1)},\n",
    "\n",
    "where :math:`|\\cdot|` denotes cardinality, and the densest-:math:`k` subgraph problem can be\n",
    "written\n",
    "succinctly as\n",
    "\n",
    ".. math:: {\\rm argmax}_{S \\in \\mathcal{S}_{k}} d(G[S])\n",
    "\n",
    "with :math:`\\mathcal{S}_{k}` the set of all possible :math:`k` node subgraphs. This problem grows\n",
    "combinatorially with :math:`{N \\choose k}` and is NP-hard in the worst case.\n",
    "\n",
    "The :func:`find_dense_subgraph` function provides access to heuristic algorithms for finding\n",
    "approximate solutions. At present, random search is the heuristic algorithm provided, accessible\n",
    "through the :func:`random_search` function. This algorithm proceeds by randomly generating a set\n",
    "of :math:`k` vertex subgraphs and selecting the densest. Sampling of subgraphs can be achieved\n",
    "both uniformly at random and also with a quantum sampler programmed to be biased toward\n",
    "outputting dense subgraphs.\n",
    "\n",
    "Summary\n",
    "-------\n",
    "\n",
    ".. autosummary::\n",
    "    METHOD_DICT\n",
    "    find_dense_subgraph\n",
    "    random_search\n",
    "\n",
    "Code details\n",
    "------------\n",
    "\"\"\"\n",
    "import functools\n",
    "from typing import Callable, Union, Tuple\n",
    "import networkx as nx\n",
    "\n",
    "from gbsapps.graph.graph_sample import dense_subgraph_sampler_gbs, uniform_subgraph_sampler\n",
    "from gbsapps.graph.functions import to_networkx_graph, graph_type\n",
    "\n",
    "\n",
    "# pylint: disable=too-many-arguments\n",
    "#[docs]\n",
    "def find_dense_subgraph(\n",
    "    graph: graph_type,\n",
    "    number_of_nodes: int,\n",
    "    iterations: int = 1,\n",
    "    method: Union[str, Callable] = \"random-search\",\n",
    "    remote: bool = False,\n",
    "    backend: str = \"gaussian\",\n",
    ") -> Tuple[float, list]:\n",
    "    \"\"\"Functionality for finding dense `node-induced subgraphs\n",
    "    <http://mathworld.wolfram.com/Vertex-InducedSubgraph.html>`__ of a given size.\n",
    "\n",
    "    The user is able to specify a stochastic algorithm as a method for optimization. Furthermore,\n",
    "    the form of randomness used (e.g., GBS sampling or uniform sampling) in the stochastic\n",
    "    algorithm can also be specified by setting a backend sampler. This sampling can be performed\n",
    "    locally or remotely.\n",
    "\n",
    "    Methods are set with the ``methods`` argument. The available methods are:\n",
    "\n",
    "    - ``\"random-search\"``: a simple random search algorithm where many subgraphs are selected and\n",
    "      the densest one is chosen (default).\n",
    "\n",
    "    Backends are set with the ``backend`` argument. They include the quantum backends\n",
    "    given in :meth:`gbsapps.sample.QUANTUM_BACKENDS` as well as a ``\"uniform\"`` sampler backend.\n",
    "    The available backends are:\n",
    "\n",
    "    - ``\"gaussian\"``: allowing subgraph samples to be simulated using the Gaussian backend of Strawberry Fields (default)\n",
    "    - ``\"uniform\"``: allowing subgraph samples to be generated with a uniform distribution using\n",
    "      the :func:`~gbsapps.graph.graph_sample.uniform_subgraph_sampler` function\n",
    "\n",
    "    Args:\n",
    "        graph (graph_type): the input graph\n",
    "        number_of_nodes (int): the size of desired dense subgraph\n",
    "        iterations (int): number of iterations to use in algorithm\n",
    "        method (str or function): either a string selecting from a range of available methods or a\n",
    "            customized callable function. Defaults to ``\"random-search\"``.\n",
    "        remote (bool): Performs sampling on a remote server if ``True``. Remote sampling is required\n",
    "            for sampling on hardware and is not available with the ``\"uniform\"`` backend. If not\n",
    "            specified, sampling will be performed\n",
    "            locally.\n",
    "        backend (str): requested backend for sampling; defaults to the ``\"gaussian\"`` backend\n",
    "\n",
    "    Returns:\n",
    "        (float, list): the density and list of nodes corresponding to the densest subgraph found\n",
    "    \"\"\"\n",
    "    if backend == \"uniform\":\n",
    "        sampler = uniform_subgraph_sampler\n",
    "    else:\n",
    "        sampler = functools.partial(dense_subgraph_sampler_gbs, remote=remote, backend=backend)\n",
    "\n",
    "    if not callable(method):\n",
    "        if method in METHOD_DICT:\n",
    "            method = METHOD_DICT[method]\n",
    "        else:\n",
    "            raise Exception(\"Optimization method must be callable or a valid string\")\n",
    "\n",
    "    return method(to_networkx_graph(graph), number_of_nodes, sampler, iterations=iterations)\n",
    "\n",
    "\n",
    "\n",
    "#[docs]\n",
    "def random_search(\n",
    "    graph: nx.Graph, number_of_nodes: int, sampler: Callable, iterations: int = 1\n",
    ") -> Tuple[float, list]:\n",
    "    \"\"\"Random search algorithm for finding dense subgraphs of a given size.\n",
    "\n",
    "    The algorithm proceeds by sampling subgraphs according to the function ``sampler``. The\n",
    "    sampled subgraphs are of size ``number_of_nodes``. The densest subgraph is then selected\n",
    "    among all the samples.\n",
    "\n",
    "    Args:\n",
    "        graph (nx.Graph): the input graph\n",
    "        number_of_nodes (int): the size of desired dense subgraph\n",
    "        sampler (function): a function which returns a given number of samples of subgraphs of a\n",
    "            given size. Must accept arguments in the form: ``(graph: nx.Graph, sampled_nodes: int,\n",
    "            samples: int = 1)``.\n",
    "        iterations (int): number of iterations to use in algorithm\n",
    "\n",
    "    Returns:\n",
    "        (float, list): the density and list of nodes corresponding to the densest subgraph found\n",
    "    \"\"\"\n",
    "    output_samples = sampler(graph, number_of_nodes, iterations)\n",
    "\n",
    "    density_and_samples = [(nx.density(graph.subgraph(s)), s) for s in output_samples]\n",
    "\n",
    "    return max(density_and_samples)\n",
    "\n",
    "\n",
    "\n",
    "METHOD_DICT = {\"random-search\": random_search}\n",
    "\"\"\"Dict[str, func]: Included methods for finding dense subgraphs. The dictionary keys are strings\n",
    "describing the method, while the dictionary values are callable functions corresponding to the\n",
    "method.\"\"\""
   ]
  },
  {
   "cell_type": "code",
   "execution_count": 2,
   "metadata": {
    "collapsed": false
   },
   "outputs": [],
   "source": [
    "# Copyright 2019 Xanadu Quantum Technologies Inc.\n",
    "r\"\"\"\n",
    "Graph functions\n",
    "===============\n",
    "\n",
    "**Module name:** :mod:`gbsapps.graph.functions`\n",
    "\n",
    ".. currentmodule:: gbsapps.graph.functions\n",
    "\n",
    "This module provides some ancillary functions for dealing with graphs. This includes\n",
    ":func:`is_adjacency` to check if an input matrix is symmetric and :func:`subgraph_adjacency` to\n",
    "return the adjacency matrix of a subgraph when an input graph and subset of nodes is specified.\n",
    "\n",
    "Furthermore, the frontend :func:`~gbsapps.graph.dense_subgraph.find_dense_subgraph` function\n",
    "allows users to input graphs both as a `NumPy <https://www.numpy.org/>`__ array containing the\n",
    "adjacency matrix and as a `NetworkX <https://networkx.github.io/>`__ ``Graph`` object. The\n",
    ":func:`to_networkx_graph` function allows both inputs to be processed into a NetworkX Graph for\n",
    "ease of processing in GBSApps.\n",
    "\n",
    "Summary\n",
    "-------\n",
    "\n",
    ".. autosummary::\n",
    "    is_adjacency\n",
    "    subgraph_adjacency\n",
    "    to_networkx_graph\n",
    "\n",
    "Code details\n",
    "------------\n",
    "\"\"\"\n",
    "from typing import Union\n",
    "\n",
    "import networkx as nx\n",
    "import numpy as np\n",
    "\n",
    "graph_type = Union[nx.Graph, np.ndarray]\n",
    "\n",
    "\n",
    "#[docs]\n",
    "def to_networkx_graph(graph: graph_type) -> nx.Graph:\n",
    "    \"\"\"Converts input graph into a NetworkX graph.\n",
    "\n",
    "    Given an input graph of type ``graph_type = Union[nx.Graph, np.ndarray]``, this function\n",
    "    outputs a NetworkX graph of type ``nx.Graph``. The input ``np.ndarray`` must be an adjacency\n",
    "    matrix (i.e., satisfy :func:`is_adjacency`) and also real.\n",
    "\n",
    "    Args:\n",
    "        graph (graph_type): input graph to be processed\n",
    "\n",
    "    Returns:\n",
    "        graph: the NetworkX graph corresponding to the input\n",
    "    \"\"\"\n",
    "\n",
    "    if isinstance(graph, np.ndarray):\n",
    "        if not is_adjacency(graph) or not np.allclose(graph, graph.conj()):\n",
    "            raise ValueError(\"Adjacency matrix must be real and symmetric\")\n",
    "\n",
    "        graph = nx.Graph(graph)\n",
    "\n",
    "    elif not isinstance(graph, nx.Graph):\n",
    "        raise TypeError(\"Graph is not of valid type\")\n",
    "\n",
    "    return graph\n",
    "\n",
    "\n",
    "\n",
    "#[docs]\n",
    "def is_adjacency(mat: np.ndarray) -> bool:\n",
    "    \"\"\"Checks if input is an adjacency matrix, i.e., symmetric.\n",
    "\n",
    "    Args:\n",
    "        mat (array): input matrix to be checked\n",
    "\n",
    "    Returns:\n",
    "        bool: returns ``True`` if input array is an adjacency matrix and ``False`` otherwise\n",
    "    \"\"\"\n",
    "\n",
    "    if not isinstance(mat, np.ndarray):\n",
    "        raise TypeError(\"Input matrix must be a numpy array\")\n",
    "\n",
    "    dims = mat.shape\n",
    "\n",
    "    conditions = len(dims) == 2 and dims[0] == dims[1] and dims[0] > 1 and np.allclose(mat, mat.T)\n",
    "\n",
    "    return conditions\n",
    "\n",
    "\n",
    "\n",
    "#[docs]\n",
    "def subgraph_adjacency(graph: graph_type, nodes: list) -> np.ndarray:\n",
    "    \"\"\"Give adjacency matrix of a subgraph\n",
    "\n",
    "    Given a list of nodes selecting a subgraph, this function returns the corresponding adjacency\n",
    "    matrix.\n",
    "\n",
    "    Args:\n",
    "        graph (graph_type): the input graph\n",
    "        nodes (list): a list of nodes used to select the subgraph\n",
    "\n",
    "    Returns:\n",
    "        array: the adjacency matrix of the subgraph\n",
    "    \"\"\"\n",
    "    graph = to_networkx_graph(graph)\n",
    "    all_nodes = graph.nodes\n",
    "\n",
    "    if not set(nodes).issubset(all_nodes):\n",
    "        raise ValueError(\n",
    "            \"Must input a list of subgraph nodes that is contained within the nodes of the input \"\n",
    "            \"graph\"\n",
    "        )\n",
    "\n",
    "    return nx.to_numpy_array(graph.subgraph(nodes))\n",
    "\n",
    "\n",
    "\n",
    "# TODO: Functionality for plotting graphs and subgraphs"
   ]
  },
  {
   "cell_type": "markdown",
   "metadata": {},
   "source": [
    "### Import some useful packages"
   ]
  },
  {
   "cell_type": "code",
   "execution_count": 3,
   "metadata": {
    "collapsed": true
   },
   "outputs": [],
   "source": [
    "# useful additional packages\n",
    "import numpy as np\n",
    "import networkx as nx\n",
    "import matplotlib.pyplot as plt"
   ]
  },
  {
   "cell_type": "markdown",
   "metadata": {},
   "source": [
    "### Draw an example graph to color"
   ]
  },
  {
   "cell_type": "markdown",
   "metadata": {},
   "source": [
    "We have experimented and found that GBS really helps with triangular tesselated graphs"
   ]
  },
  {
   "cell_type": "code",
   "execution_count": 4,
   "metadata": {
    "collapsed": false
   },
   "outputs": [
    {
     "name": "stderr",
     "output_type": "stream",
     "text": [
      "/Library/Frameworks/Python.framework/Versions/3.6/lib/python3.6/site-packages/networkx/drawing/nx_pylab.py:579: MatplotlibDeprecationWarning: \n",
      "The iterable function was deprecated in Matplotlib 3.1 and will be removed in 3.3. Use np.iterable instead.\n"
     ]
    },
    {
     "data": {
      "image/png": "[encoded data removed]",
      "text/plain": [
       "<Figure size 432x288 with 1 Axes>"
      ]
     },
     "metadata": {},
     "output_type": "display_data"
    }
   ],
   "source": [
    "#G = nx.triangular_lattice_graph(1, 2, with_positions=False)\n",
    "G = nx.Graph()\n",
    "edges = [(0, 1), (1, 2), (2, 0), (2, 3), (3, 0), (3, 4), (4, 2),(4,5),(5,3),(4,6),(6,2),(1,7),(7,0),(1,8),(8,2)]\n",
    "nodes = list(range(4))\n",
    "G.add_edges_from(edges)\n",
    "G.add_nodes_from(nodes)\n",
    "\n",
    "\n",
    "# Let's draw this thing\n",
    "colors = ['beige' for node in G.nodes()]\n",
    "pos = nx.spring_layout(G)\n",
    "default_axes = plt.axes(frameon=True)\n",
    "nx.draw_networkx(G, node_color=colors, node_size=600, alpha=.8, ax=default_axes, pos=pos)"
   ]
  },
  {
   "cell_type": "markdown",
   "metadata": {},
   "source": [
    "### Start defining some functions we will need in our workflow"
   ]
  },
  {
   "cell_type": "code",
   "execution_count": 5,
   "metadata": {
    "collapsed": false
   },
   "outputs": [
    {
     "data": {
      "text/plain": [
       "'\\n_, G_new = find_dense_subgraph(G, 4)\\nprint(G_new)\\nA = subgraph_adjacency(G, G_new)\\nprint(A)\\n\\ndens = density_func(A)\\ndens\\n'"
      ]
     },
     "execution_count": 5,
     "metadata": {},
     "output_type": "execute_result"
    }
   ],
   "source": [
    "def density_func(A):\n",
    "    dens = (np.sum(A)/2) / ((A.shape[0]*(A.shape[0]-1))/2)\n",
    "    return dens\n",
    "\n",
    "# Test\n",
    "'''\n",
    "_, G_new = find_dense_subgraph(G, 4)\n",
    "print(G_new)\n",
    "A = subgraph_adjacency(G, G_new)\n",
    "print(A)\n",
    "\n",
    "dens = density_func(A)\n",
    "dens\n",
    "'''"
   ]
  },
  {
   "cell_type": "code",
   "execution_count": 6,
   "metadata": {
    "collapsed": false
   },
   "outputs": [],
   "source": [
    "def find_least_connected(A):\n",
    "    min_sum = float('inf')\n",
    "    for i in range(A.shape[0]):\n",
    "        if np.sum(A[i]) < min_sum:\n",
    "            min_sum = np.sum(A[i])\n",
    "            min_element = i\n",
    "    return min_element\n",
    "\n",
    "# Test\n",
    "#find_least_connected(A)"
   ]
  },
  {
   "cell_type": "code",
   "execution_count": 7,
   "metadata": {
    "collapsed": false
   },
   "outputs": [
    {
     "data": {
      "text/plain": [
       "\"\\nA_new, nodes_new = remove_node(A, find_least_connected(A), G_new)\\nprint(A_new)\\nprint('')\\nprint(nodes_new)\\n\""
      ]
     },
     "execution_count": 7,
     "metadata": {},
     "output_type": "execute_result"
    }
   ],
   "source": [
    "def remove_node(A, n, nodes):\n",
    "    A_new = np.delete(A, n, 1)\n",
    "    A_new = np.delete(A_new, n, 0)\n",
    "    nodes_new = np.delete(nodes,n)\n",
    "    return A_new, nodes_new\n",
    "\n",
    "\n",
    "# Test\n",
    "'''\n",
    "A_new, nodes_new = remove_node(A, find_least_connected(A), G_new)\n",
    "print(A_new)\n",
    "print('')\n",
    "print(nodes_new)\n",
    "'''"
   ]
  },
  {
   "cell_type": "code",
   "execution_count": 23,
   "metadata": {
    "collapsed": false
   },
   "outputs": [
    {
     "data": {
      "text/plain": [
       "'\\ncolors = np.zeros(len(G))\\ncolors_new = paint(A_new, colors, nodes_new)\\nprint(colors_new)\\n'"
      ]
     },
     "execution_count": 23,
     "metadata": {},
     "output_type": "execute_result"
    }
   ],
   "source": [
    "def paint(A, colors, nodes):\n",
    "    totalpaint = colors[nodes[0]] + colors[nodes[1]] + colors[nodes[2]]\n",
    "    if totalpaint == 0:\n",
    "        colors[nodes[0]] = 1\n",
    "        colors[nodes[1]] = 2\n",
    "        colors[nodes[2]] = 3\n",
    "    elif totalpaint > 0 and totalpaint < 6:\n",
    "        if colors[nodes[0]] == 0:\n",
    "            colors[nodes[0]] = 6 - totalpaint\n",
    "        elif colors[nodes[1]] == 0:\n",
    "            colors[nodes[1]] = 6 - totalpaint\n",
    "        elif colors[nodes[2]] == 0:\n",
    "            colors[nodes[2]] = 6 - totalpaint\n",
    "    return colors\n",
    "\n",
    "# Test\n",
    "'''\n",
    "colors = np.zeros(len(G))\n",
    "colors_new = paint(A_new, colors, nodes_new)\n",
    "print(colors_new)\n",
    "'''"
   ]
  },
  {
   "cell_type": "code",
   "execution_count": 24,
   "metadata": {
    "collapsed": false
   },
   "outputs": [],
   "source": [
    "def colorcheck(colors):\n",
    "    everythingcolored = True\n",
    "    i = 0\n",
    "    while everythingcolored and i < len(colors):\n",
    "        everythingcolored = colors[i] != 0\n",
    "        i += 1\n",
    "    return everythingcolored\n",
    "\n",
    "# Test\n",
    "#colorcheck([1,1,1,0])"
   ]
  },
  {
   "cell_type": "code",
   "execution_count": 27,
   "metadata": {
    "collapsed": false
   },
   "outputs": [
    {
     "data": {
      "text/plain": [
       "'\\ndens = 1\\ncolors_new = shrink(dens, A, nodes, colors)\\nprint(colors_new)\\n'"
      ]
     },
     "execution_count": 27,
     "metadata": {},
     "output_type": "execute_result"
    }
   ],
   "source": [
    "def shrink(dens, A, nodes,colors):\n",
    "    while density_func(A) < dens and len(A)>0:\n",
    "        least_node = find_least_connected(A)\n",
    "        A, nodes = remove_node(A, least_node, nodes)\n",
    "    if A.shape[0] > 2:\n",
    "        colors = paint(A, colors, nodes)\n",
    "        return colors\n",
    "    return colors\n",
    "\n",
    "# Test\n",
    "'''\n",
    "dens = 1\n",
    "colors_new = shrink(dens, A, nodes, colors)\n",
    "print(colors_new)\n",
    "'''"
   ]
  },
  {
   "cell_type": "markdown",
   "metadata": {},
   "source": [
    "### Get coloring!"
   ]
  },
  {
   "cell_type": "markdown",
   "metadata": {},
   "source": [
    "This is where the magic happens. Using the GBS sampler, we obtain with high probability samples of dense subgraphs of our initial graph. We then feed these samples to a heuristic for determining the best coloring of the overall graph"
   ]
  },
  {
   "cell_type": "code",
   "execution_count": 28,
   "metadata": {
    "collapsed": false
   },
   "outputs": [
    {
     "name": "stdout",
     "output_type": "stream",
     "text": [
      "[0. 0. 0. 1. 2. 3. 0. 0. 0.]\n",
      "[0. 0. 0. 1. 2. 3. 0. 0. 0.]\n",
      "[0. 1. 2. 1. 2. 3. 0. 0. 3.]\n",
      "[0. 1. 2. 1. 2. 3. 3. 0. 3.]\n",
      "[0. 1. 2. 1. 2. 3. 3. 0. 3.]\n",
      "[0. 1. 2. 1. 2. 3. 3. 0. 3.]\n",
      "[0. 1. 2. 1. 2. 3. 3. 0. 3.]\n",
      "[0. 1. 2. 1. 2. 3. 3. 0. 3.]\n",
      "[0. 1. 2. 1. 2. 3. 3. 0. 3.]\n",
      "[5. 1. 2. 1. 2. 3. 3. 0. 3.]\n",
      "[5. 1. 2. 1. 2. 3. 3. 0. 3.]\n",
      "[5. 1. 2. 1. 2. 3. 3. 0. 3.]\n",
      "[5. 1. 2. 1. 2. 3. 3. 0. 3.]\n",
      "[5. 1. 2. 1. 2. 3. 3. 0. 3.]\n",
      "[5. 1. 2. 1. 2. 3. 3. 0. 3.]\n",
      "[5. 1. 2. 1. 2. 3. 3. 0. 3.]\n",
      "[5. 1. 2. 1. 2. 3. 3. 0. 3.]\n",
      "[5. 1. 2. 1. 2. 3. 3. 0. 3.]\n",
      "[5. 1. 2. 1. 2. 3. 3. 0. 3.]\n",
      "[5. 1. 2. 1. 2. 3. 3. 0. 3.]\n",
      "[5. 1. 2. 1. 2. 3. 3. 0. 3.]\n",
      "[5. 1. 2. 1. 2. 3. 3. 0. 3.]\n",
      "[5. 1. 2. 1. 2. 3. 3. 0. 3.]\n",
      "[5. 1. 2. 1. 2. 3. 3. 0. 3.]\n",
      "[5. 1. 2. 1. 2. 3. 3. 0. 3.]\n",
      "[5. 1. 2. 1. 2. 3. 3. 0. 3.]\n",
      "[5. 1. 2. 1. 2. 3. 3. 0. 3.]\n",
      "[5. 1. 2. 1. 2. 3. 3. 0. 3.]\n",
      "[5. 1. 2. 1. 2. 3. 3. 0. 3.]\n",
      "[5. 1. 2. 1. 2. 3. 3. 0. 3.]\n",
      "[5. 1. 2. 1. 2. 3. 3. 0. 3.]\n",
      "[5. 1. 2. 1. 2. 3. 3. 0. 3.]\n",
      "[5. 1. 2. 1. 2. 3. 3. 0. 3.]\n",
      "[5. 1. 2. 1. 2. 3. 3. 0. 3.]\n",
      "[5. 1. 2. 1. 2. 3. 3. 0. 3.]\n",
      "[5. 1. 2. 1. 2. 3. 3. 0. 3.]\n",
      "[5. 1. 2. 1. 2. 3. 3. 0. 3.]\n",
      "[5. 1. 2. 1. 2. 3. 3. 0. 3.]\n",
      "[5. 1. 2. 1. 2. 3. 3. 0. 3.]\n",
      "[5. 1. 2. 1. 2. 3. 3. 0. 3.]\n",
      "[5. 1. 2. 1. 2. 3. 3. 0. 3.]\n",
      "[5. 1. 2. 1. 2. 3. 3. 0. 3.]\n",
      "[5. 1. 2. 1. 2. 3. 3. 0. 3.]\n",
      "[5. 1. 2. 1. 2. 3. 3. 0. 3.]\n",
      "[5. 1. 2. 1. 2. 3. 3. 0. 3.]\n",
      "[5. 1. 2. 1. 2. 3. 3. 0. 3.]\n",
      "[5. 1. 2. 1. 2. 3. 3. 0. 3.]\n",
      "[5. 1. 2. 1. 2. 3. 3. 0. 3.]\n",
      "[5. 1. 2. 1. 2. 3. 3. 0. 3.]\n",
      "[5. 1. 2. 1. 2. 3. 3. 0. 3.]\n",
      "[5. 1. 2. 1. 2. 3. 3. 0. 3.]\n",
      "[5. 1. 2. 1. 2. 3. 3. 0. 3.]\n",
      "[5. 1. 2. 1. 2. 3. 3. 0. 3.]\n",
      "[5. 1. 2. 1. 2. 3. 3. 0. 3.]\n",
      "[5. 1. 2. 1. 2. 3. 3. 0. 3.]\n",
      "[5. 1. 2. 1. 2. 3. 3. 0. 3.]\n",
      "[5. 1. 2. 1. 2. 3. 3. 0. 3.]\n",
      "[5. 1. 2. 1. 2. 3. 3. 0. 3.]\n",
      "[5. 1. 2. 1. 2. 3. 3. 0. 3.]\n",
      "[5. 1. 2. 1. 2. 3. 3. 0. 3.]\n",
      "[5. 1. 2. 1. 2. 3. 3. 0. 3.]\n",
      "[5. 1. 2. 1. 2. 3. 3. 0. 3.]\n",
      "[5. 1. 2. 1. 2. 3. 3. 0. 3.]\n",
      "[5. 1. 2. 1. 2. 3. 3. 0. 3.]\n",
      "[5. 1. 2. 1. 2. 3. 3. 0. 3.]\n",
      "[5. 1. 2. 1. 2. 3. 3. 0. 3.]\n",
      "[5. 1. 2. 1. 2. 3. 3. 0. 3.]\n",
      "[5. 1. 2. 1. 2. 3. 3. 0. 3.]\n",
      "[5. 1. 2. 1. 2. 3. 3. 0. 3.]\n",
      "[5. 1. 2. 1. 2. 3. 3. 0. 3.]\n",
      "[5. 1. 2. 1. 2. 3. 3. 0. 3.]\n",
      "[5. 1. 2. 1. 2. 3. 3. 0. 3.]\n",
      "[5. 1. 2. 1. 2. 3. 3. 0. 3.]\n",
      "[5. 1. 2. 1. 2. 3. 3. 0. 3.]\n",
      "[5. 1. 2. 1. 2. 3. 3. 0. 3.]\n",
      "[5. 1. 2. 1. 2. 3. 3. 0. 3.]\n",
      "[5. 1. 2. 1. 2. 3. 3. 0. 3.]\n",
      "[5. 1. 2. 1. 2. 3. 3. 0. 3.]\n"
     ]
    },
    {
     "ename": "KeyboardInterrupt",
     "evalue": "",
     "output_type": "error",
     "traceback": [
      "\u001b[0;31m---------------------------------------------------------------------------\u001b[0m",
      "\u001b[0;31mKeyboardInterrupt\u001b[0m                         Traceback (most recent call last)",
      "\u001b[0;32m<ipython-input-28-171fea5c3945>\u001b[0m in \u001b[0;36m<module>\u001b[0;34m\u001b[0m\n\u001b[1;32m      3\u001b[0m \u001b[0meverythingcolored\u001b[0m \u001b[0;34m=\u001b[0m \u001b[0;32mFalse\u001b[0m\u001b[0;34m\u001b[0m\u001b[0m\n\u001b[1;32m      4\u001b[0m \u001b[0;32mwhile\u001b[0m \u001b[0;32mnot\u001b[0m \u001b[0meverythingcolored\u001b[0m\u001b[0;34m:\u001b[0m\u001b[0;34m\u001b[0m\u001b[0m\n\u001b[0;32m----> 5\u001b[0;31m     \u001b[0m_\u001b[0m\u001b[0;34m,\u001b[0m \u001b[0mG_new\u001b[0m \u001b[0;34m=\u001b[0m \u001b[0mfind_dense_subgraph\u001b[0m\u001b[0;34m(\u001b[0m\u001b[0mG\u001b[0m\u001b[0;34m,\u001b[0m \u001b[0;36m4\u001b[0m\u001b[0;34m)\u001b[0m\u001b[0;34m\u001b[0m\u001b[0m\n\u001b[0m\u001b[1;32m      6\u001b[0m     \u001b[0mA\u001b[0m \u001b[0;34m=\u001b[0m \u001b[0msubgraph_adjacency\u001b[0m\u001b[0;34m(\u001b[0m\u001b[0mG\u001b[0m\u001b[0;34m,\u001b[0m \u001b[0mG_new\u001b[0m\u001b[0;34m)\u001b[0m\u001b[0;34m\u001b[0m\u001b[0m\n\u001b[1;32m      7\u001b[0m     \u001b[0mcolors\u001b[0m \u001b[0;34m=\u001b[0m \u001b[0mshrink\u001b[0m\u001b[0;34m(\u001b[0m\u001b[0mdens\u001b[0m\u001b[0;34m,\u001b[0m \u001b[0mA\u001b[0m\u001b[0;34m,\u001b[0m \u001b[0mG_new\u001b[0m\u001b[0;34m,\u001b[0m \u001b[0mcolors\u001b[0m\u001b[0;34m)\u001b[0m\u001b[0;34m\u001b[0m\u001b[0m\n",
      "\u001b[0;32m<ipython-input-1-bc88eb77db7a>\u001b[0m in \u001b[0;36mfind_dense_subgraph\u001b[0;34m(graph, number_of_nodes, iterations, method, remote, backend)\u001b[0m\n\u001b[1;32m    110\u001b[0m             \u001b[0;32mraise\u001b[0m \u001b[0mException\u001b[0m\u001b[0;34m(\u001b[0m\u001b[0;34m\"Optimization method must be callable or a valid string\"\u001b[0m\u001b[0;34m)\u001b[0m\u001b[0;34m\u001b[0m\u001b[0m\n\u001b[1;32m    111\u001b[0m \u001b[0;34m\u001b[0m\u001b[0m\n\u001b[0;32m--> 112\u001b[0;31m     \u001b[0;32mreturn\u001b[0m \u001b[0mmethod\u001b[0m\u001b[0;34m(\u001b[0m\u001b[0mto_networkx_graph\u001b[0m\u001b[0;34m(\u001b[0m\u001b[0mgraph\u001b[0m\u001b[0;34m)\u001b[0m\u001b[0;34m,\u001b[0m \u001b[0mnumber_of_nodes\u001b[0m\u001b[0;34m,\u001b[0m \u001b[0msampler\u001b[0m\u001b[0;34m,\u001b[0m \u001b[0miterations\u001b[0m\u001b[0;34m=\u001b[0m\u001b[0miterations\u001b[0m\u001b[0;34m)\u001b[0m\u001b[0;34m\u001b[0m\u001b[0m\n\u001b[0m\u001b[1;32m    113\u001b[0m \u001b[0;34m\u001b[0m\u001b[0m\n\u001b[1;32m    114\u001b[0m \u001b[0;34m\u001b[0m\u001b[0m\n",
      "\u001b[0;32m<ipython-input-1-bc88eb77db7a>\u001b[0m in \u001b[0;36mrandom_search\u001b[0;34m(graph, number_of_nodes, sampler, iterations)\u001b[0m\n\u001b[1;32m    135\u001b[0m         \u001b[0;34m(\u001b[0m\u001b[0mfloat\u001b[0m\u001b[0;34m,\u001b[0m \u001b[0mlist\u001b[0m\u001b[0;34m)\u001b[0m\u001b[0;34m:\u001b[0m \u001b[0mthe\u001b[0m \u001b[0mdensity\u001b[0m \u001b[0;32mand\u001b[0m \u001b[0mlist\u001b[0m \u001b[0mof\u001b[0m \u001b[0mnodes\u001b[0m \u001b[0mcorresponding\u001b[0m \u001b[0mto\u001b[0m \u001b[0mthe\u001b[0m \u001b[0mdensest\u001b[0m \u001b[0msubgraph\u001b[0m \u001b[0mfound\u001b[0m\u001b[0;34m\u001b[0m\u001b[0m\n\u001b[1;32m    136\u001b[0m     \"\"\"\n\u001b[0;32m--> 137\u001b[0;31m     \u001b[0moutput_samples\u001b[0m \u001b[0;34m=\u001b[0m \u001b[0msampler\u001b[0m\u001b[0;34m(\u001b[0m\u001b[0mgraph\u001b[0m\u001b[0;34m,\u001b[0m \u001b[0mnumber_of_nodes\u001b[0m\u001b[0;34m,\u001b[0m \u001b[0miterations\u001b[0m\u001b[0;34m)\u001b[0m\u001b[0;34m\u001b[0m\u001b[0m\n\u001b[0m\u001b[1;32m    138\u001b[0m \u001b[0;34m\u001b[0m\u001b[0m\n\u001b[1;32m    139\u001b[0m     \u001b[0mdensity_and_samples\u001b[0m \u001b[0;34m=\u001b[0m \u001b[0;34m[\u001b[0m\u001b[0;34m(\u001b[0m\u001b[0mnx\u001b[0m\u001b[0;34m.\u001b[0m\u001b[0mdensity\u001b[0m\u001b[0;34m(\u001b[0m\u001b[0mgraph\u001b[0m\u001b[0;34m.\u001b[0m\u001b[0msubgraph\u001b[0m\u001b[0;34m(\u001b[0m\u001b[0ms\u001b[0m\u001b[0;34m)\u001b[0m\u001b[0;34m)\u001b[0m\u001b[0;34m,\u001b[0m \u001b[0ms\u001b[0m\u001b[0;34m)\u001b[0m \u001b[0;32mfor\u001b[0m \u001b[0ms\u001b[0m \u001b[0;32min\u001b[0m \u001b[0moutput_samples\u001b[0m\u001b[0;34m]\u001b[0m\u001b[0;34m\u001b[0m\u001b[0m\n",
      "\u001b[0;32m/Library/Frameworks/Python.framework/Versions/3.6/lib/python3.6/site-packages/gbsapps/graph/graph_sample.py\u001b[0m in \u001b[0;36mdense_subgraph_sampler_gbs\u001b[0;34m(graph, number_of_nodes, samples, remote, backend)\u001b[0m\n\u001b[1;32m    163\u001b[0m         \u001b[0mbackend\u001b[0m\u001b[0;34m=\u001b[0m\u001b[0mbackend\u001b[0m\u001b[0;34m,\u001b[0m\u001b[0;34m\u001b[0m\u001b[0m\n\u001b[1;32m    164\u001b[0m         \u001b[0mthreshold\u001b[0m\u001b[0;34m=\u001b[0m\u001b[0;32mTrue\u001b[0m\u001b[0;34m,\u001b[0m\u001b[0;34m\u001b[0m\u001b[0m\n\u001b[0;32m--> 165\u001b[0;31m         \u001b[0mpostselect\u001b[0m\u001b[0;34m=\u001b[0m\u001b[0mpostselect\u001b[0m\u001b[0;34m,\u001b[0m\u001b[0;34m\u001b[0m\u001b[0m\n\u001b[0m\u001b[1;32m    166\u001b[0m     )\n\u001b[1;32m    167\u001b[0m \u001b[0;34m\u001b[0m\u001b[0m\n",
      "\u001b[0;32m/Library/Frameworks/Python.framework/Versions/3.6/lib/python3.6/site-packages/gbsapps/sample.py\u001b[0m in \u001b[0;36mquantum_sampler\u001b[0;34m(A, n_mean, samples, remote, backend, threshold, postselect)\u001b[0m\n\u001b[1;32m    123\u001b[0m \u001b[0;34m\u001b[0m\u001b[0m\n\u001b[1;32m    124\u001b[0m         \u001b[0;32mwhile\u001b[0m \u001b[0mlen\u001b[0m\u001b[0;34m(\u001b[0m\u001b[0ms\u001b[0m\u001b[0;34m)\u001b[0m \u001b[0;34m<\u001b[0m \u001b[0msamples\u001b[0m\u001b[0;34m:\u001b[0m\u001b[0;34m\u001b[0m\u001b[0m\n\u001b[0;32m--> 125\u001b[0;31m             \u001b[0msamp\u001b[0m \u001b[0;34m=\u001b[0m \u001b[0mnp\u001b[0m\u001b[0;34m.\u001b[0m\u001b[0marray\u001b[0m\u001b[0;34m(\u001b[0m\u001b[0m_sample_sf\u001b[0m\u001b[0;34m(\u001b[0m\u001b[0mp\u001b[0m\u001b[0;34m,\u001b[0m \u001b[0mshots\u001b[0m\u001b[0;34m=\u001b[0m\u001b[0;36m1\u001b[0m\u001b[0;34m,\u001b[0m \u001b[0mremote\u001b[0m\u001b[0;34m=\u001b[0m\u001b[0mremote\u001b[0m\u001b[0;34m,\u001b[0m \u001b[0mbackend\u001b[0m\u001b[0;34m=\u001b[0m\u001b[0mbackend\u001b[0m\u001b[0;34m)\u001b[0m\u001b[0;34m)\u001b[0m\u001b[0;34m\u001b[0m\u001b[0m\n\u001b[0m\u001b[1;32m    126\u001b[0m \u001b[0;34m\u001b[0m\u001b[0m\n\u001b[1;32m    127\u001b[0m             \u001b[0;32mif\u001b[0m \u001b[0mthreshold\u001b[0m\u001b[0;34m:\u001b[0m\u001b[0;34m\u001b[0m\u001b[0m\n",
      "\u001b[0;32m/Library/Frameworks/Python.framework/Versions/3.6/lib/python3.6/site-packages/gbsapps/sample.py\u001b[0m in \u001b[0;36m_sample_sf\u001b[0;34m(p, shots, remote, backend)\u001b[0m\n\u001b[1;32m    165\u001b[0m     \u001b[0meng\u001b[0m \u001b[0;34m=\u001b[0m \u001b[0msf\u001b[0m\u001b[0;34m.\u001b[0m\u001b[0mLocalEngine\u001b[0m\u001b[0;34m(\u001b[0m\u001b[0mbackend\u001b[0m\u001b[0;34m=\u001b[0m\u001b[0mbackend\u001b[0m\u001b[0;34m)\u001b[0m\u001b[0;34m\u001b[0m\u001b[0m\n\u001b[1;32m    166\u001b[0m \u001b[0;34m\u001b[0m\u001b[0m\n\u001b[0;32m--> 167\u001b[0;31m     \u001b[0;32mreturn\u001b[0m \u001b[0mnp\u001b[0m\u001b[0;34m.\u001b[0m\u001b[0marray\u001b[0m\u001b[0;34m(\u001b[0m\u001b[0meng\u001b[0m\u001b[0;34m.\u001b[0m\u001b[0mrun\u001b[0m\u001b[0;34m(\u001b[0m\u001b[0mp\u001b[0m\u001b[0;34m,\u001b[0m \u001b[0mrun_options\u001b[0m\u001b[0;34m=\u001b[0m\u001b[0;34m{\u001b[0m\u001b[0;34m\"shots\"\u001b[0m\u001b[0;34m:\u001b[0m \u001b[0mshots\u001b[0m\u001b[0;34m}\u001b[0m\u001b[0;34m)\u001b[0m\u001b[0;34m.\u001b[0m\u001b[0msamples\u001b[0m\u001b[0;34m)\u001b[0m\u001b[0;34m\u001b[0m\u001b[0m\n\u001b[0m\u001b[1;32m    168\u001b[0m \u001b[0;34m\u001b[0m\u001b[0m\n\u001b[1;32m    169\u001b[0m \u001b[0;34m\u001b[0m\u001b[0m\n",
      "\u001b[0;32m/Library/Frameworks/Python.framework/Versions/3.6/lib/python3.6/site-packages/strawberryfields/engine.py\u001b[0m in \u001b[0;36mrun\u001b[0;34m(self, program, compile_options, run_options)\u001b[0m\n\u001b[1;32m    387\u001b[0m         \u001b[0meng_run_options\u001b[0m \u001b[0;34m=\u001b[0m \u001b[0;34m{\u001b[0m\u001b[0mkey\u001b[0m\u001b[0;34m:\u001b[0m \u001b[0mtemp_run_options\u001b[0m\u001b[0;34m[\u001b[0m\u001b[0mkey\u001b[0m\u001b[0;34m]\u001b[0m \u001b[0;32mfor\u001b[0m \u001b[0mkey\u001b[0m \u001b[0;32min\u001b[0m \u001b[0mtemp_run_options\u001b[0m\u001b[0;34m.\u001b[0m\u001b[0mkeys\u001b[0m\u001b[0;34m(\u001b[0m\u001b[0;34m)\u001b[0m \u001b[0;34m&\u001b[0m \u001b[0meng_run_keys\u001b[0m\u001b[0;34m}\u001b[0m\u001b[0;34m\u001b[0m\u001b[0m\n\u001b[1;32m    388\u001b[0m \u001b[0;34m\u001b[0m\u001b[0m\n\u001b[0;32m--> 389\u001b[0;31m         \u001b[0mresult\u001b[0m \u001b[0;34m=\u001b[0m \u001b[0msuper\u001b[0m\u001b[0;34m(\u001b[0m\u001b[0;34m)\u001b[0m\u001b[0;34m.\u001b[0m\u001b[0m_run\u001b[0m\u001b[0;34m(\u001b[0m\u001b[0mprogram\u001b[0m\u001b[0;34m,\u001b[0m \u001b[0mcompile_options\u001b[0m\u001b[0;34m=\u001b[0m\u001b[0mcompile_options\u001b[0m\u001b[0;34m,\u001b[0m \u001b[0;34m**\u001b[0m\u001b[0meng_run_options\u001b[0m\u001b[0;34m)\u001b[0m\u001b[0;34m\u001b[0m\u001b[0m\n\u001b[0m\u001b[1;32m    390\u001b[0m \u001b[0;34m\u001b[0m\u001b[0m\n\u001b[1;32m    391\u001b[0m         \u001b[0mmodes\u001b[0m \u001b[0;34m=\u001b[0m \u001b[0mtemp_run_options\u001b[0m\u001b[0;34m[\u001b[0m\u001b[0;34m\"modes\"\u001b[0m\u001b[0;34m]\u001b[0m\u001b[0;34m\u001b[0m\u001b[0m\n",
      "\u001b[0;32m/Library/Frameworks/Python.framework/Versions/3.6/lib/python3.6/site-packages/strawberryfields/engine.py\u001b[0m in \u001b[0;36m_run\u001b[0;34m(self, program, compile_options, **kwargs)\u001b[0m\n\u001b[1;32m    276\u001b[0m             \u001b[0mp\u001b[0m\u001b[0;34m.\u001b[0m\u001b[0mlock\u001b[0m\u001b[0;34m(\u001b[0m\u001b[0;34m)\u001b[0m\u001b[0;34m\u001b[0m\u001b[0m\n\u001b[1;32m    277\u001b[0m \u001b[0;34m\u001b[0m\u001b[0m\n\u001b[0;32m--> 278\u001b[0;31m             \u001b[0mself\u001b[0m\u001b[0;34m.\u001b[0m\u001b[0m_run_program\u001b[0m\u001b[0;34m(\u001b[0m\u001b[0mp\u001b[0m\u001b[0;34m,\u001b[0m \u001b[0;34m**\u001b[0m\u001b[0mkwargs\u001b[0m\u001b[0;34m)\u001b[0m\u001b[0;34m\u001b[0m\u001b[0m\n\u001b[0m\u001b[1;32m    279\u001b[0m             \u001b[0mself\u001b[0m\u001b[0;34m.\u001b[0m\u001b[0mrun_progs\u001b[0m\u001b[0;34m.\u001b[0m\u001b[0mappend\u001b[0m\u001b[0;34m(\u001b[0m\u001b[0mp\u001b[0m\u001b[0;34m)\u001b[0m\u001b[0;34m\u001b[0m\u001b[0m\n\u001b[1;32m    280\u001b[0m             \u001b[0;31m# store the latest measurement results\u001b[0m\u001b[0;34m\u001b[0m\u001b[0;34m\u001b[0m\u001b[0m\n",
      "\u001b[0;32m/Library/Frameworks/Python.framework/Versions/3.6/lib/python3.6/site-packages/strawberryfields/engine.py\u001b[0m in \u001b[0;36m_run_program\u001b[0;34m(self, prog, **kwargs)\u001b[0m\n\u001b[1;32m    329\u001b[0m             \u001b[0;32mtry\u001b[0m\u001b[0;34m:\u001b[0m\u001b[0;34m\u001b[0m\u001b[0m\n\u001b[1;32m    330\u001b[0m                 \u001b[0;31m# try to apply it to the backend\u001b[0m\u001b[0;34m\u001b[0m\u001b[0;34m\u001b[0m\u001b[0m\n\u001b[0;32m--> 331\u001b[0;31m                 \u001b[0mcmd\u001b[0m\u001b[0;34m.\u001b[0m\u001b[0mop\u001b[0m\u001b[0;34m.\u001b[0m\u001b[0mapply\u001b[0m\u001b[0;34m(\u001b[0m\u001b[0mcmd\u001b[0m\u001b[0;34m.\u001b[0m\u001b[0mreg\u001b[0m\u001b[0;34m,\u001b[0m \u001b[0mself\u001b[0m\u001b[0;34m.\u001b[0m\u001b[0mbackend\u001b[0m\u001b[0;34m,\u001b[0m \u001b[0;34m**\u001b[0m\u001b[0mkwargs\u001b[0m\u001b[0;34m)\u001b[0m  \u001b[0;31m# NOTE we could also handle storing measured vals here\u001b[0m\u001b[0;34m\u001b[0m\u001b[0m\n\u001b[0m\u001b[1;32m    332\u001b[0m                 \u001b[0mapplied\u001b[0m\u001b[0;34m.\u001b[0m\u001b[0mappend\u001b[0m\u001b[0;34m(\u001b[0m\u001b[0mcmd\u001b[0m\u001b[0;34m)\u001b[0m\u001b[0;34m\u001b[0m\u001b[0m\n\u001b[1;32m    333\u001b[0m             \u001b[0;32mexcept\u001b[0m \u001b[0mNotApplicableError\u001b[0m\u001b[0;34m:\u001b[0m\u001b[0;34m\u001b[0m\u001b[0m\n",
      "\u001b[0;32m/Library/Frameworks/Python.framework/Versions/3.6/lib/python3.6/site-packages/strawberryfields/ops.py\u001b[0m in \u001b[0;36mapply\u001b[0;34m(self, reg, backend, **kwargs)\u001b[0m\n\u001b[1;32m    559\u001b[0m                 \u001b[0mOnly\u001b[0m \u001b[0mapplies\u001b[0m \u001b[0mto\u001b[0m \u001b[0mMeasurements\u001b[0m\u001b[0;34m.\u001b[0m\u001b[0;34m\u001b[0m\u001b[0m\n\u001b[1;32m    560\u001b[0m         \"\"\"\n\u001b[0;32m--> 561\u001b[0;31m         \u001b[0mvalues\u001b[0m \u001b[0;34m=\u001b[0m \u001b[0msuper\u001b[0m\u001b[0;34m(\u001b[0m\u001b[0;34m)\u001b[0m\u001b[0;34m.\u001b[0m\u001b[0mapply\u001b[0m\u001b[0;34m(\u001b[0m\u001b[0mreg\u001b[0m\u001b[0;34m,\u001b[0m \u001b[0mbackend\u001b[0m\u001b[0;34m,\u001b[0m \u001b[0;34m**\u001b[0m\u001b[0mkwargs\u001b[0m\u001b[0;34m)\u001b[0m\u001b[0;34m\u001b[0m\u001b[0m\n\u001b[0m\u001b[1;32m    562\u001b[0m         \u001b[0;31m# convert the returned values into an iterable with the measured modes indexed along\u001b[0m\u001b[0;34m\u001b[0m\u001b[0;34m\u001b[0m\u001b[0m\n\u001b[1;32m    563\u001b[0m         \u001b[0;31m# the first axis and shots along second axis (if larger than 1), so that we can assign\u001b[0m\u001b[0;34m\u001b[0m\u001b[0;34m\u001b[0m\u001b[0m\n",
      "\u001b[0;32m/Library/Frameworks/Python.framework/Versions/3.6/lib/python3.6/site-packages/strawberryfields/ops.py\u001b[0m in \u001b[0;36mapply\u001b[0;34m(self, reg, backend, **kwargs)\u001b[0m\n\u001b[1;32m    487\u001b[0m         \u001b[0mtemp\u001b[0m \u001b[0;34m=\u001b[0m \u001b[0;34m[\u001b[0m\u001b[0mrr\u001b[0m\u001b[0;34m.\u001b[0m\u001b[0mind\u001b[0m \u001b[0;32mfor\u001b[0m \u001b[0mrr\u001b[0m \u001b[0;32min\u001b[0m \u001b[0mreg\u001b[0m\u001b[0;34m]\u001b[0m\u001b[0;34m\u001b[0m\u001b[0m\n\u001b[1;32m    488\u001b[0m         \u001b[0;31m# call the child class specialized _apply method\u001b[0m\u001b[0;34m\u001b[0m\u001b[0;34m\u001b[0m\u001b[0m\n\u001b[0;32m--> 489\u001b[0;31m         \u001b[0mresult\u001b[0m \u001b[0;34m=\u001b[0m \u001b[0mself\u001b[0m\u001b[0;34m.\u001b[0m\u001b[0m_apply\u001b[0m\u001b[0;34m(\u001b[0m\u001b[0mtemp\u001b[0m\u001b[0;34m,\u001b[0m \u001b[0mbackend\u001b[0m\u001b[0;34m,\u001b[0m \u001b[0;34m**\u001b[0m\u001b[0mkwargs\u001b[0m\u001b[0;34m)\u001b[0m\u001b[0;34m\u001b[0m\u001b[0m\n\u001b[0m\u001b[1;32m    490\u001b[0m \u001b[0;34m\u001b[0m\u001b[0m\n\u001b[1;32m    491\u001b[0m         \u001b[0;31m# restore original unevaluated Parameter instances\u001b[0m\u001b[0;34m\u001b[0m\u001b[0;34m\u001b[0m\u001b[0m\n",
      "\u001b[0;32m/Library/Frameworks/Python.framework/Versions/3.6/lib/python3.6/site-packages/strawberryfields/ops.py\u001b[0m in \u001b[0;36m_apply\u001b[0;34m(self, reg, backend, shots, **kwargs)\u001b[0m\n\u001b[1;32m   1047\u001b[0m \u001b[0;34m\u001b[0m\u001b[0m\n\u001b[1;32m   1048\u001b[0m     \u001b[0;32mdef\u001b[0m \u001b[0m_apply\u001b[0m\u001b[0;34m(\u001b[0m\u001b[0mself\u001b[0m\u001b[0;34m,\u001b[0m \u001b[0mreg\u001b[0m\u001b[0;34m,\u001b[0m \u001b[0mbackend\u001b[0m\u001b[0;34m,\u001b[0m \u001b[0mshots\u001b[0m\u001b[0;34m=\u001b[0m\u001b[0;36m1\u001b[0m\u001b[0;34m,\u001b[0m \u001b[0;34m**\u001b[0m\u001b[0mkwargs\u001b[0m\u001b[0;34m)\u001b[0m\u001b[0;34m:\u001b[0m\u001b[0;34m\u001b[0m\u001b[0m\n\u001b[0;32m-> 1049\u001b[0;31m         \u001b[0;32mreturn\u001b[0m \u001b[0mbackend\u001b[0m\u001b[0;34m.\u001b[0m\u001b[0mmeasure_fock\u001b[0m\u001b[0;34m(\u001b[0m\u001b[0mreg\u001b[0m\u001b[0;34m,\u001b[0m \u001b[0mshots\u001b[0m\u001b[0;34m=\u001b[0m\u001b[0mshots\u001b[0m\u001b[0;34m,\u001b[0m \u001b[0mselect\u001b[0m\u001b[0;34m=\u001b[0m\u001b[0mself\u001b[0m\u001b[0;34m.\u001b[0m\u001b[0mselect\u001b[0m\u001b[0;34m,\u001b[0m \u001b[0;34m**\u001b[0m\u001b[0mkwargs\u001b[0m\u001b[0;34m)\u001b[0m\u001b[0;34m\u001b[0m\u001b[0m\n\u001b[0m\u001b[1;32m   1050\u001b[0m \u001b[0;34m\u001b[0m\u001b[0m\n\u001b[1;32m   1051\u001b[0m     \u001b[0;32mdef\u001b[0m \u001b[0m__str__\u001b[0m\u001b[0;34m(\u001b[0m\u001b[0mself\u001b[0m\u001b[0;34m)\u001b[0m\u001b[0;34m:\u001b[0m\u001b[0;34m\u001b[0m\u001b[0m\n",
      "\u001b[0;32m/Library/Frameworks/Python.framework/Versions/3.6/lib/python3.6/site-packages/strawberryfields/backends/gaussianbackend/backend.py\u001b[0m in \u001b[0;36mmeasure_fock\u001b[0;34m(self, modes, shots, select)\u001b[0m\n\u001b[1;32m    211\u001b[0m         \u001b[0mmodes_idxs\u001b[0m \u001b[0;34m=\u001b[0m \u001b[0mconcatenate\u001b[0m\u001b[0;34m(\u001b[0m\u001b[0;34m[\u001b[0m\u001b[0mx_idxs\u001b[0m\u001b[0;34m,\u001b[0m \u001b[0mp_idxs\u001b[0m\u001b[0;34m]\u001b[0m\u001b[0;34m)\u001b[0m\u001b[0;34m\u001b[0m\u001b[0m\n\u001b[1;32m    212\u001b[0m         \u001b[0mreduced_cov\u001b[0m \u001b[0;34m=\u001b[0m \u001b[0mcov\u001b[0m\u001b[0;34m[\u001b[0m\u001b[0mix_\u001b[0m\u001b[0;34m(\u001b[0m\u001b[0mmodes_idxs\u001b[0m\u001b[0;34m,\u001b[0m \u001b[0mmodes_idxs\u001b[0m\u001b[0;34m)\u001b[0m\u001b[0;34m]\u001b[0m\u001b[0;34m\u001b[0m\u001b[0m\n\u001b[0;32m--> 213\u001b[0;31m         \u001b[0msamples\u001b[0m \u001b[0;34m=\u001b[0m \u001b[0mhafnian_sample_state\u001b[0m\u001b[0;34m(\u001b[0m\u001b[0mreduced_cov\u001b[0m\u001b[0;34m,\u001b[0m \u001b[0mshots\u001b[0m\u001b[0;34m)\u001b[0m\u001b[0;34m\u001b[0m\u001b[0m\n\u001b[0m\u001b[1;32m    214\u001b[0m         \u001b[0;31m# for backward compatibility with previous measurement behaviour,\u001b[0m\u001b[0;34m\u001b[0m\u001b[0;34m\u001b[0m\u001b[0m\n\u001b[1;32m    215\u001b[0m         \u001b[0;31m# if only one shot, then we drop the shots axis\u001b[0m\u001b[0;34m\u001b[0m\u001b[0;34m\u001b[0m\u001b[0m\n",
      "\u001b[0;32m/Library/Frameworks/Python.framework/Versions/3.6/lib/python3.6/site-packages/hafnian/samples.py\u001b[0m in \u001b[0;36mhafnian_sample_state\u001b[0;34m(cov, samples, hbar, cutoff, max_photons, approx, approx_samples, pool)\u001b[0m\n\u001b[1;32m    239\u001b[0m     \u001b[0;32mif\u001b[0m \u001b[0;32mnot\u001b[0m \u001b[0mpool\u001b[0m\u001b[0;34m:\u001b[0m\u001b[0;34m\u001b[0m\u001b[0m\n\u001b[1;32m    240\u001b[0m         \u001b[0mparams\u001b[0m \u001b[0;34m=\u001b[0m \u001b[0;34m[\u001b[0m\u001b[0mcov\u001b[0m\u001b[0;34m,\u001b[0m \u001b[0msamples\u001b[0m\u001b[0;34m,\u001b[0m \u001b[0mhbar\u001b[0m\u001b[0;34m,\u001b[0m \u001b[0mcutoff\u001b[0m\u001b[0;34m,\u001b[0m \u001b[0mmax_photons\u001b[0m\u001b[0;34m,\u001b[0m \u001b[0mapprox\u001b[0m\u001b[0;34m,\u001b[0m \u001b[0mapprox_samples\u001b[0m\u001b[0;34m]\u001b[0m\u001b[0;34m\u001b[0m\u001b[0m\n\u001b[0;32m--> 241\u001b[0;31m         \u001b[0;32mreturn\u001b[0m \u001b[0m_hafnian_sample\u001b[0m\u001b[0;34m(\u001b[0m\u001b[0mparams\u001b[0m\u001b[0;34m)\u001b[0m\u001b[0;34m\u001b[0m\u001b[0m\n\u001b[0m\u001b[1;32m    242\u001b[0m \u001b[0;34m\u001b[0m\u001b[0m\n\u001b[1;32m    243\u001b[0m     \u001b[0mpool\u001b[0m \u001b[0;34m=\u001b[0m \u001b[0mPool\u001b[0m\u001b[0;34m(\u001b[0m\u001b[0;34m)\u001b[0m\u001b[0;34m\u001b[0m\u001b[0m\n",
      "\u001b[0;32m/Library/Frameworks/Python.framework/Versions/3.6/lib/python3.6/site-packages/hafnian/samples.py\u001b[0m in \u001b[0;36m_hafnian_sample\u001b[0;34m(args)\u001b[0m\n\u001b[1;32m    203\u001b[0m             \u001b[0mmax_photons\u001b[0m\u001b[0;34m=\u001b[0m\u001b[0mmax_photons\u001b[0m\u001b[0;34m,\u001b[0m\u001b[0;34m\u001b[0m\u001b[0m\n\u001b[1;32m    204\u001b[0m             \u001b[0mapprox\u001b[0m\u001b[0;34m=\u001b[0m\u001b[0mapprox\u001b[0m\u001b[0;34m,\u001b[0m\u001b[0;34m\u001b[0m\u001b[0m\n\u001b[0;32m--> 205\u001b[0;31m             \u001b[0mapprox_samples\u001b[0m\u001b[0;34m=\u001b[0m\u001b[0mapprox_samples\u001b[0m\u001b[0;34m,\u001b[0m\u001b[0;34m\u001b[0m\u001b[0m\n\u001b[0m\u001b[1;32m    206\u001b[0m         )\n\u001b[1;32m    207\u001b[0m \u001b[0;34m\u001b[0m\u001b[0m\n",
      "\u001b[0;32m/Library/Frameworks/Python.framework/Versions/3.6/lib/python3.6/site-packages/hafnian/samples.py\u001b[0m in \u001b[0;36mgenerate_hafnian_sample\u001b[0;34m(cov, hbar, cutoff, max_photons, approx, approx_samples)\u001b[0m\n\u001b[1;32m    116\u001b[0m                 )\n\u001b[1;32m    117\u001b[0m             \u001b[0;32melse\u001b[0m\u001b[0;34m:\u001b[0m\u001b[0;34m\u001b[0m\u001b[0m\n\u001b[0;32m--> 118\u001b[0;31m                 \u001b[0mprobs1\u001b[0m\u001b[0;34m[\u001b[0m\u001b[0mi\u001b[0m\u001b[0;34m]\u001b[0m \u001b[0;34m=\u001b[0m \u001b[0mhafnian\u001b[0m\u001b[0;34m(\u001b[0m\u001b[0mmat\u001b[0m\u001b[0;34m)\u001b[0m\u001b[0;34m.\u001b[0m\u001b[0mreal\u001b[0m \u001b[0;34m/\u001b[0m \u001b[0mfactpref\u001b[0m\u001b[0;34m\u001b[0m\u001b[0m\n\u001b[0m\u001b[1;32m    119\u001b[0m \u001b[0;34m\u001b[0m\u001b[0m\n\u001b[1;32m    120\u001b[0m         \u001b[0mprobs1a\u001b[0m \u001b[0;34m=\u001b[0m \u001b[0mprobs1\u001b[0m \u001b[0;34m/\u001b[0m \u001b[0mnp\u001b[0m\u001b[0;34m.\u001b[0m\u001b[0msqrt\u001b[0m\u001b[0;34m(\u001b[0m\u001b[0mnp\u001b[0m\u001b[0;34m.\u001b[0m\u001b[0mlinalg\u001b[0m\u001b[0;34m.\u001b[0m\u001b[0mdet\u001b[0m\u001b[0;34m(\u001b[0m\u001b[0mQ\u001b[0m\u001b[0;34m)\u001b[0m\u001b[0;34m.\u001b[0m\u001b[0mreal\u001b[0m\u001b[0;34m)\u001b[0m\u001b[0;34m\u001b[0m\u001b[0m\n",
      "\u001b[0;32m/Library/Frameworks/Python.framework/Versions/3.6/lib/python3.6/site-packages/hafnian/_hafnian.py\u001b[0m in \u001b[0;36mhafnian\u001b[0;34m(A, loop, recursive, tol, quad, approx, num_samples)\u001b[0m\n\u001b[1;32m    152\u001b[0m         \u001b[0;32mif\u001b[0m \u001b[0mnp\u001b[0m\u001b[0;34m.\u001b[0m\u001b[0many\u001b[0m\u001b[0;34m(\u001b[0m\u001b[0mnp\u001b[0m\u001b[0;34m.\u001b[0m\u001b[0miscomplex\u001b[0m\u001b[0;34m(\u001b[0m\u001b[0mA\u001b[0m\u001b[0;34m)\u001b[0m\u001b[0;34m)\u001b[0m\u001b[0;34m:\u001b[0m\u001b[0;34m\u001b[0m\u001b[0m\n\u001b[1;32m    153\u001b[0m             \u001b[0;31m# array values contain non-zero imaginary parts\u001b[0m\u001b[0;34m\u001b[0m\u001b[0;34m\u001b[0m\u001b[0m\n\u001b[0;32m--> 154\u001b[0;31m             \u001b[0;32mreturn\u001b[0m \u001b[0mhaf_complex\u001b[0m\u001b[0;34m(\u001b[0m\u001b[0mA\u001b[0m\u001b[0;34m,\u001b[0m \u001b[0mloop\u001b[0m\u001b[0;34m=\u001b[0m\u001b[0mloop\u001b[0m\u001b[0;34m,\u001b[0m \u001b[0mrecursive\u001b[0m\u001b[0;34m=\u001b[0m\u001b[0mrecursive\u001b[0m\u001b[0;34m,\u001b[0m \u001b[0mquad\u001b[0m\u001b[0;34m=\u001b[0m\u001b[0mquad\u001b[0m\u001b[0;34m)\u001b[0m\u001b[0;34m\u001b[0m\u001b[0m\n\u001b[0m\u001b[1;32m    155\u001b[0m \u001b[0;34m\u001b[0m\u001b[0m\n\u001b[1;32m    156\u001b[0m         \u001b[0;31m# all array values have zero imaginary parts\u001b[0m\u001b[0;34m\u001b[0m\u001b[0;34m\u001b[0m\u001b[0m\n",
      "\u001b[0;31mKeyboardInterrupt\u001b[0m: "
     ]
    }
   ],
   "source": [
    "colors = np.zeros(len(G.nodes))\n",
    "dens = 1\n",
    "everythingcolored = False\n",
    "while not everythingcolored:\n",
    "    _, G_new = find_dense_subgraph(G, 4)\n",
    "    A = subgraph_adjacency(G, G_new)\n",
    "    colors = shrink(dens, A, G_new, colors)\n",
    "    print(colors)\n",
    "    everythingcolored = colorcheck(colors)\n",
    "\n",
    "colors_final = colors    "
   ]
  },
  {
   "cell_type": "markdown",
   "metadata": {},
   "source": [
    "### Now we color our graph using the coloring we found:"
   ]
  },
  {
   "cell_type": "code",
   "execution_count": null,
   "metadata": {
    "collapsed": false
   },
   "outputs": [],
   "source": [
    "# Let's draw this thing\n",
    "colors_new = []\n",
    "for color in colors:\n",
    "    if int(color) == 1:\n",
    "        colors_new.append('r')\n",
    "    elif int(color) == 2:\n",
    "        colors_new.append('b')\n",
    "    elif int(color) == 3:\n",
    "        colors_new.append('g')\n",
    "\n",
    "pos = nx.spring_layout(G)\n",
    "default_axes = plt.axes(frameon=True)\n",
    "nx.draw_networkx(G, node_color=colors_new, node_size=600, alpha=.8, ax=default_axes, pos=pos)"
   ]
  },
  {
   "cell_type": "markdown",
   "metadata": {},
   "source": [
    "### Maybe we can try some other ones..."
   ]
  },
  {
   "cell_type": "code",
   "execution_count": null,
   "metadata": {
    "collapsed": false
   },
   "outputs": [],
   "source": [
    "m = 3\n",
    "n = 3\n",
    "g = nx.triangular_lattice_graph(3, 3)\n",
    "nodes_new = list(range(len(g.nodes())))\n",
    "print(g.edges())\n",
    "edges_new = []\n",
    "for i in range(m):\n",
    "    for j in range(n):\n",
    "        g.\n",
    "\n",
    "\n",
    "\n",
    "pos = nx.spring_layout(g)\n",
    "default_axes = plt.axes(frameon=True)\n",
    "colors = ['y' for node in g.nodes()]\n",
    "nx.draw_networkx(g, node_color=colors, node_size=600, alpha=.8, ax=default_axes, pos=pos)\n"
   ]
  }
 ],
 "metadata": {
  "kernelspec": {
   "display_name": "Python 3",
   "language": "python",
   "name": "python3"
  },
  "language_info": {
   "codemirror_mode": {
    "name": "ipython",
    "version": 3
   },
   "file_extension": ".py",
   "mimetype": "text/x-python",
   "name": "python",
   "nbconvert_exporter": "python",
   "pygments_lexer": "ipython3",
   "version": "3.6.1"
  }
 },
 "nbformat": 4,
 "nbformat_minor": 2
}
