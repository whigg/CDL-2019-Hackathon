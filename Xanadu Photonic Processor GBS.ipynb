{
 "cells": [
  {
   "cell_type": "markdown",
   "metadata": {},
   "source": [
    "# Graph Coloring with Xanadu's Photonic Processor"
   ]
  },
  {
   "cell_type": "markdown",
   "metadata": {},
   "source": [
    "Given some input graph, we can use Xanadu's Gaussian Boson Sampler to return to us with high probability a dense subgraph of the entire graph. We can use the results of the sampler to inform how we color our graph. We thus test the idea of Boson Sampling Enhanced Coloring (BSEC).\n",
    "\n",
    "Because Xanadu's processor gives us access to 4 qumodes, we consider a 4 node graph"
   ]
  },
  {
   "cell_type": "markdown",
   "metadata": {},
   "source": [
    "### Make some imports"
   ]
  },
  {
   "cell_type": "code",
   "execution_count": 1,
   "metadata": {
    "collapsed": true
   },
   "outputs": [],
   "source": [
    "# useful packages\n",
    "import numpy as np\n",
    "import networkx as nx\n",
    "import matplotlib.pyplot as plt\n",
    "import random"
   ]
  },
  {
   "cell_type": "markdown",
   "metadata": {},
   "source": [
    "### Draw an example 4 node graph we want to color"
   ]
  },
  {
   "cell_type": "code",
   "execution_count": 3,
   "metadata": {
    "collapsed": false
   },
   "outputs": [
    {
     "data": {
      "image/png": "[encoded data removed]",
      "text/plain": [
       "<Figure size 432x288 with 1 Axes>"
      ]
     },
     "metadata": {},
     "output_type": "display_data"
    }
   ],
   "source": [
    "G = nx.Graph()\n",
    "edges = [(0, 1), (0, 2), (3, 1), (3, 2)]\n",
    "nodes = list(range(4))\n",
    "G.add_edges_from(edges)\n",
    "G.add_nodes_from(nodes)\n",
    "\n",
    "pos = nx.spring_layout(G)\n",
    "default_axes = plt.axes(frameon=True)\n",
    "colors = ['y' for node in G.nodes()]\n",
    "nx.draw_networkx(G, node_color=colors, node_size=600, alpha=.8, ax=default_axes, pos=pos)"
   ]
  },
  {
   "cell_type": "markdown",
   "metadata": {},
   "source": [
    "### Extract SVD info of adjacency matrix of graph"
   ]
  },
  {
   "cell_type": "code",
   "execution_count": 38,
   "metadata": {
    "collapsed": false
   },
   "outputs": [
    {
     "name": "stdout",
     "output_type": "stream",
     "text": [
      "[1.00000000e+00 6.09611797e-01 3.90388203e-01 7.01840724e-17]\n"
     ]
    }
   ],
   "source": [
    "A = np.array([[0,1,0,1], [1,0,1,1], [0,1,0,1], [1,1,1,0]])\n",
    "\n",
    "_, svds, _ = np.linalg.svd(A)\n",
    "#print(svds)\n",
    "max_val = max(svds)\n",
    "svds_scaled = svds/max_val\n",
    "print(svds_scaled)"
   ]
  },
  {
   "cell_type": "markdown",
   "metadata": {},
   "source": [
    "### Write up a circuit for Boson sampling:"
   ]
  },
  {
   "cell_type": "markdown",
   "metadata": {},
   "source": [
    "We write the circuit for GBS based on the following:\n",
    "<br>\n",
    "<img src=\"https://s3.amazonaws.com/xanadu-img/gaussian_boson_sampling.svg\" width=70%/>\n",
    "\n",
    "<br>"
   ]
  },
  {
   "cell_type": "code",
   "execution_count": 5,
   "metadata": {
    "collapsed": true
   },
   "outputs": [],
   "source": [
    "import strawberryfields as sf\n",
    "from strawberryfields.ops import *\n",
    "from strawberryfields.utils import random_interferometer\n",
    "from strawberryfields.decompositions import graph_embed"
   ]
  },
  {
   "cell_type": "code",
   "execution_count": 39,
   "metadata": {
    "collapsed": false
   },
   "outputs": [
    {
     "name": "stdout",
     "output_type": "stream",
     "text": [
      "[[-0.43516215+0.00000000e+00j  0.        -5.57345410e-01j\n",
      "   0.        -1.11022302e-16j  0.        -7.07106781e-01j]\n",
      " [-0.55734541+0.00000000e+00j  0.        +4.35162146e-01j\n",
      "   0.        -7.07106781e-01j  0.        +0.00000000e+00j]\n",
      " [-0.43516215+0.00000000e+00j  0.        -5.57345410e-01j\n",
      "   0.        -5.55111512e-17j  0.        +7.07106781e-01j]\n",
      " [-0.55734541+0.00000000e+00j  0.        +4.35162146e-01j\n",
      "   0.        +7.07106781e-01j  0.        +0.00000000e+00j]]\n"
     ]
    }
   ],
   "source": [
    "squeezes, U_Int = graph_embed(A)\n",
    "print(U_Int)"
   ]
  },
  {
   "cell_type": "code",
   "execution_count": 25,
   "metadata": {
    "collapsed": false
   },
   "outputs": [
    {
     "ename": "AttributeError",
     "evalue": "module 'strawberryfields' has no attribute 'StarshipEngine'",
     "output_type": "error",
     "traceback": [
      "\u001b[0;31m---------------------------------------------------------------------------\u001b[0m",
      "\u001b[0;31mAttributeError\u001b[0m                            Traceback (most recent call last)",
      "\u001b[0;32m<ipython-input-25-e747277fdcc5>\u001b[0m in \u001b[0;36m<module>\u001b[0;34m\u001b[0m\n\u001b[1;32m      1\u001b[0m \u001b[0mprogram\u001b[0m \u001b[0;34m=\u001b[0m \u001b[0msf\u001b[0m\u001b[0;34m.\u001b[0m\u001b[0mio\u001b[0m\u001b[0;34m.\u001b[0m\u001b[0mload\u001b[0m\u001b[0;34m(\u001b[0m\u001b[0;34m'chip0.xbb'\u001b[0m\u001b[0;34m)\u001b[0m\u001b[0;34m\u001b[0m\u001b[0m\n\u001b[0;32m----> 2\u001b[0;31m \u001b[0meng\u001b[0m \u001b[0;34m=\u001b[0m \u001b[0msf\u001b[0m\u001b[0;34m.\u001b[0m\u001b[0mStarshipEngine\u001b[0m\u001b[0;34m(\u001b[0m\u001b[0;34m)\u001b[0m\u001b[0;34m\u001b[0m\u001b[0m\n\u001b[0m",
      "\u001b[0;31mAttributeError\u001b[0m: module 'strawberryfields' has no attribute 'StarshipEngine'"
     ]
    }
   ],
   "source": [
    "program = sf.io.load('chip0.xbb')\n",
    "eng = sf.StarshipEngine()"
   ]
  },
  {
   "cell_type": "code",
   "execution_count": null,
   "metadata": {
    "collapsed": true
   },
   "outputs": [],
   "source": [
    "results = eng.run(program)"
   ]
  },
  {
   "cell_type": "code",
   "execution_count": null,
   "metadata": {
    "collapsed": true
   },
   "outputs": [],
   "source": [
    "results.samples.T"
   ]
  },
  {
   "cell_type": "code",
   "execution_count": 44,
   "metadata": {
    "collapsed": false
   },
   "outputs": [
    {
     "name": "stdout",
     "output_type": "stream",
     "text": [
      "Run 0:\n",
      "Sgate(-1.379, 0) | (q[0])\n",
      "Sgate(-0.5999, 0) | (q[1])\n",
      "Sgate(-0.3585, 0) | (q[2])\n",
      "Sgate(-0, 0) | (q[3])\n",
      "Rgate(1.571) | (q[0])\n",
      "BSgate(0.9079, 0) | (q[0], q[1])\n",
      "Rgate(-0.3617) | (q[2])\n",
      "BSgate(1.571, 0) | (q[2], q[3])\n",
      "Rgate(-0.3617) | (q[1])\n",
      "BSgate(1.571, 0) | (q[1], q[2])\n",
      "BSgate(0.7854, 0) | (q[0], q[1])\n",
      "Rgate(1.571) | (q[0])\n",
      "Rgate(-1.571) | (q[1])\n",
      "Rgate(-1.209) | (q[2])\n",
      "Rgate(1.932) | (q[3])\n",
      "BSgate(-0.7854, 0) | (q[2], q[3])\n",
      "Rgate(-0.3617) | (q[2])\n",
      "BSgate(-1.571, 0) | (q[1], q[2])\n",
      "Rgate(-2.78) | (q[1])\n",
      "Measure | (q[0], q[1], q[2], q[3])\n"
     ]
    }
   ],
   "source": [
    "# Sim\n",
    "#eng = sf.Engine('gaussian')\n",
    "\n",
    "# Hardware\n",
    "\n",
    "gbs = sf.Program(4)\n",
    "\n",
    "with gbs.context as q:\n",
    "    # prepare the input squeezed states\n",
    "    for i in range(4):\n",
    "        Sgate(squeezes[i]) | q[i]\n",
    "    \n",
    "    '''\n",
    "    # apply rotation gates, parameterized by svds\n",
    "    for i in range(4):\n",
    "        R(svds_scaled[i]) | q[i]\n",
    "    \n",
    "    \n",
    "    # Beamsplitters\n",
    "    BS() | [q[0], q[1]]\n",
    "    BS() | [q[2], q[3]]\n",
    "    \n",
    "    BS() | [q[1], q[2]]\n",
    "    \n",
    "    BS() | [q[0], q[1]]\n",
    "    BS() | [q[2], q[3]]\n",
    "    \n",
    "    BS() | [q[1], q[2]]\n",
    "    \n",
    "    BS() | [q[0], q[1]]\n",
    "    BS() | [q[2], q[3]]\n",
    "    '''\n",
    "    \n",
    "    # linear interferometer\n",
    "    Interferometer(U_Int) | q\n",
    "   \n",
    "    MeasureFock() | q\n",
    "eng.print_applied()\n",
    "#results = eng.run(gbs, run_options={\"shots\":1000})"
   ]
  },
  {
   "cell_type": "markdown",
   "metadata": {},
   "source": [
    "### Samples"
   ]
  },
  {
   "cell_type": "code",
   "execution_count": 8,
   "metadata": {
    "collapsed": false
   },
   "outputs": [],
   "source": [
    "samples = results.samples"
   ]
  },
  {
   "cell_type": "markdown",
   "metadata": {},
   "source": [
    "### Post-Processing"
   ]
  },
  {
   "cell_type": "code",
   "execution_count": 9,
   "metadata": {
    "collapsed": true
   },
   "outputs": [],
   "source": [
    "def threshold(samples):\n",
    "    for sample in samples:\n",
    "        for i in range(len(sample)):\n",
    "            if sample[i] >= 1:\n",
    "                sample[i] = 1\n",
    "                \n",
    "def post_select(samples):\n",
    "    new_samples = []\n",
    "    for i in range(len(samples)):\n",
    "        if np.sum(samples[i]) == 3:\n",
    "            new_samples.append(samples[i])\n",
    "    return new_samples\n",
    "\n",
    "def samples_to_subgraph(sample):\n",
    "    subgraph = []\n",
    "    for i in range(len(sample)):\n",
    "        if sample[i] == 1:\n",
    "            subgraph.append(i)\n",
    "    return subgraph   "
   ]
  },
  {
   "cell_type": "code",
   "execution_count": 10,
   "metadata": {
    "collapsed": false
   },
   "outputs": [],
   "source": [
    "threshold(samples)\n",
    "temp = post_select(samples)\n",
    "\n",
    "subgraphs = []\n",
    "for i in range(len(temp)):\n",
    "    subgraphs.append(samples_to_subgraph(temp[i]))"
   ]
  },
  {
   "cell_type": "markdown",
   "metadata": {},
   "source": [
    "### Coloring"
   ]
  },
  {
   "cell_type": "code",
   "execution_count": 11,
   "metadata": {
    "collapsed": true
   },
   "outputs": [],
   "source": [
    "def lf(A, nodes,colors):\n",
    "    sums = []\n",
    "    for i in range(len(A)):\n",
    "        sums.append((np.sum(A[i]), i))\n",
    "    sums.sort(key=lambda tup: tup[0], reverse=True)\n",
    "    \n",
    "    colors = np.zeros(len(nodes))\n",
    "    colors[0] = 1\n",
    "    for i in range(1, len(sums)):\n",
    "        maximum = 0\n",
    "        for j in range(0,i):\n",
    "            if A[sums[i][1]][sums[j][1]] != 0:\n",
    "                if colors[sums[j][1]] > maximum:\n",
    "                    maximum = colors[sums[j][1]] + 1\n",
    "        colors[i] = maximum\n",
    "    return colors\n",
    "\n",
    "def colorcheck(colors):\n",
    "    everythingcolored = True\n",
    "    i = 0\n",
    "    while everythingcolored and i < len(colors):\n",
    "        everythingcolored = colors[i] != 0\n",
    "        i += 1\n",
    "    return everythingcolored"
   ]
  },
  {
   "cell_type": "code",
   "execution_count": 12,
   "metadata": {
    "collapsed": false
   },
   "outputs": [],
   "source": [
    "from typing import Union\n",
    "graph_type = Union[nx.Graph, np.ndarray]\n",
    "\n",
    "\n",
    "\n",
    "def to_networkx_graph(graph: graph_type) -> nx.Graph:\n",
    "    \"\"\"Converts input graph into a NetworkX graph.\n",
    "\n",
    "    Given an input graph of type ``graph_type = Union[nx.Graph, np.ndarray]``, this function\n",
    "    outputs a NetworkX graph of type ``nx.Graph``. The input ``np.ndarray`` must be an adjacency\n",
    "    matrix (i.e., satisfy :func:`is_adjacency`) and also real.\n",
    "\n",
    "    Args:\n",
    "        graph (graph_type): input graph to be processed\n",
    "\n",
    "    Returns:\n",
    "        graph: the NetworkX graph corresponding to the input\n",
    "    \"\"\"\n",
    "\n",
    "    if isinstance(graph, np.ndarray):\n",
    "        if not is_adjacency(graph) or not np.allclose(graph, graph.conj()):\n",
    "            raise ValueError(\"Adjacency matrix must be real and symmetric\")\n",
    "\n",
    "        graph = nx.Graph(graph)\n",
    "\n",
    "    elif not isinstance(graph, nx.Graph):\n",
    "        raise TypeError(\"Graph is not of valid type\")\n",
    "\n",
    "    return graph\n",
    "\n",
    "\n",
    "\n",
    "#[docs]\n",
    "def is_adjacency(mat: np.ndarray) -> bool:\n",
    "    \"\"\"Checks if input is an adjacency matrix, i.e., symmetric.\n",
    "\n",
    "    Args:\n",
    "        mat (array): input matrix to be checked\n",
    "\n",
    "    Returns:\n",
    "        bool: returns ``True`` if input array is an adjacency matrix and ``False`` otherwise\n",
    "    \"\"\"\n",
    "\n",
    "    if not isinstance(mat, np.ndarray):\n",
    "        raise TypeError(\"Input matrix must be a numpy array\")\n",
    "\n",
    "    dims = mat.shape\n",
    "\n",
    "    conditions = len(dims) == 2 and dims[0] == dims[1] and dims[0] > 1 and np.allclose(mat, mat.T)\n",
    "\n",
    "    return conditions\n",
    "\n",
    "\n",
    "\n",
    "def subgraph_adjacency(graph: graph_type, nodes: list) -> np.ndarray:\n",
    "    \"\"\"Give adjacency matrix of a subgraph\n",
    "\n",
    "    Given a list of nodes selecting a subgraph, this function returns the corresponding adjacency\n",
    "    matrix.\n",
    "\n",
    "    Args:\n",
    "        graph (graph_type): the input graph\n",
    "        nodes (list): a list of nodes used to select the subgraph\n",
    "\n",
    "    Returns:\n",
    "        array: the adjacency matrix of the subgraph\n",
    "    \"\"\"\n",
    "    graph = to_networkx_graph(graph)\n",
    "    all_nodes = graph.nodes\n",
    "\n",
    "    if not set(nodes).issubset(all_nodes):\n",
    "        raise ValueError(\n",
    "            \"Must input a list of subgraph nodes that is contained within the nodes of the input \"\n",
    "            \"graph\"\n",
    "        )\n",
    "\n",
    "    return nx.to_numpy_array(graph.subgraph(nodes))\n",
    "\n",
    "\n",
    "\n",
    "# TODO: Functionality for plotting graphs and subgraphs"
   ]
  },
  {
   "cell_type": "code",
   "execution_count": 13,
   "metadata": {
    "collapsed": true
   },
   "outputs": [],
   "source": [
    "def paintstupid(A,colors,nodes):\n",
    "    colors[nodes[0]] = 1\n",
    "    colors[nodes[1]] = 1\n",
    "    colors[nodes[2]] = 1\n",
    "    return colors\n",
    "\n",
    "def paint2(A, colors, nodes):\n",
    "    available_colors = [1, 2]\n",
    "    v = random.choice([0, 1, 2])\n",
    "    for j in range(0,4):\n",
    "        if v == 0: \n",
    "            if colors[nodes[v]] == 0:\n",
    "                if colors[nodes[v+1]] == 0:\n",
    "                    colors[nodes[v]] = random.choice([1,2])\n",
    "                else:\n",
    "                    if colors[nodes[v+1]] == 1:\n",
    "                        colors[nodes[v]] = 2\n",
    "                    else:\n",
    "                        colors[nodes[v]] = 1\n",
    "        if v == 1:\n",
    "            if colors[nodes[v]] == 0:\n",
    "                if colors[nodes[v+1]] == 0:\n",
    "                    colors[nodes[v]] = random.choice([1,2])\n",
    "                else:\n",
    "                    if colors[nodes[v+1]] == 1:\n",
    "                        colors[nodes[v]] = 2\n",
    "                    else:\n",
    "                        colors[nodes[v]] = 1\n",
    "        if v == 2:\n",
    "            if colors[nodes[v]] == 0:\n",
    "                if colors[nodes[v-1]] == 0:\n",
    "                    colors[nodes[v]] = random.choice([1,2])\n",
    "                else:\n",
    "                    if colors[nodes[v-1]] == 1:\n",
    "                        colors[nodes[v]] = 2\n",
    "                    else:\n",
    "                        colors[nodes[v]] = 1\n",
    "        return colors"
   ]
  },
  {
   "cell_type": "code",
   "execution_count": 20,
   "metadata": {
    "collapsed": false
   },
   "outputs": [
    {
     "name": "stdout",
     "output_type": "stream",
     "text": [
      "[0. 2. 0. 0.]\n",
      "[1. 2. 0. 0.]\n",
      "[1. 2. 0. 1.]\n",
      "[1. 2. 0. 1.]\n",
      "[1. 2. 0. 1.]\n",
      "[1. 2. 0. 1.]\n",
      "[1. 2. 0. 1.]\n",
      "[1. 2. 0. 1.]\n",
      "[1. 2. 0. 1.]\n",
      "[1. 2. 0. 1.]\n",
      "[1. 2. 0. 1.]\n",
      "[1. 2. 0. 1.]\n",
      "[1. 2. 0. 1.]\n",
      "[1. 2. 0. 1.]\n",
      "[1. 2. 0. 1.]\n",
      "[1. 2. 2. 1.]\n"
     ]
    }
   ],
   "source": [
    "colors = np.zeros(len(G.nodes))\n",
    "#dens = 0.4\n",
    "everythingcolored = False\n",
    "i = 0\n",
    "while not everythingcolored:\n",
    "    A = subgraph_adjacency(G, subgraphs[i])\n",
    "    colors = paint2(A, colors, subgraphs[i])\n",
    "    i = i + 1\n",
    "    print(colors)\n",
    "    everythingcolored = colorcheck(colors)"
   ]
  },
  {
   "cell_type": "code",
   "execution_count": 24,
   "metadata": {
    "collapsed": false
   },
   "outputs": [
    {
     "data": {
      "image/png": "[encoded data removed]",
      "text/plain": [
       "<Figure size 432x288 with 1 Axes>"
      ]
     },
     "metadata": {},
     "output_type": "display_data"
    }
   ],
   "source": [
    "pos = nx.spring_layout(G)\n",
    "default_axes = plt.axes(frameon=True)\n",
    "colors = colors\n",
    "nx.draw_networkx(G, node_color=colors, node_size=600, alpha=.8, ax=default_axes, pos=pos)"
   ]
  },
  {
   "cell_type": "code",
   "execution_count": null,
   "metadata": {
    "collapsed": true
   },
   "outputs": [],
   "source": []
  }
 ],
 "metadata": {
  "kernelspec": {
   "display_name": "Python 3",
   "language": "python",
   "name": "python3"
  },
  "language_info": {
   "codemirror_mode": {
    "name": "ipython",
    "version": 3
   },
   "file_extension": ".py",
   "mimetype": "text/x-python",
   "name": "python",
   "nbconvert_exporter": "python",
   "pygments_lexer": "ipython3",
   "version": "3.6.1"
  }
 },
 "nbformat": 4,
 "nbformat_minor": 2
}
