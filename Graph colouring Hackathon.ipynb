{
 "cells": [
  {
   "cell_type": "code",
   "execution_count": 24,
   "metadata": {},
   "outputs": [],
   "source": [
    "from dwave.system import DWaveSampler, EmbeddingComposite\n",
    "from neal import SimulatedAnnealingSampler\n",
    "import numpy as np\n",
    "import dimod\n",
    "\n",
    "def graphcolour(G,ncolours, constr):\n",
    "    #We start initialising the QUBO matrix\n",
    "    Q = {}\n",
    "    for i in range(0,len(G)):\n",
    "        for j in range(0,ncolours):\n",
    "            for k in range(0,len(G)):\n",
    "                for l in range(0,ncolours):\n",
    "                    Q[(str(i) + str(j), str(k) + str(l))] = 0\n",
    "            \n",
    "    #Objective, we dont want adjacent vertices to share the colour\n",
    "    for i in range(0,len(G)):\n",
    "        for j in range(0,ncolours):\n",
    "            for k in range(0,len(G)):\n",
    "                if G[i][j] == 1:\n",
    "                    Q[(str(i) + str(j), str(k) + str(j))] = 1\n",
    "    #Constraint: Every vertex is painted of exactly one colour\n",
    "    for i in range(0,len(G)):\n",
    "        for j in range(0,ncolours):\n",
    "            for k in range(0,ncolours):\n",
    "                if j == k:\n",
    "                    Q[(str(i) + str(j), str(i) + str(j))] = Q[(str(i) + str(j), str(i) + str(j))] - constr\n",
    "                else:\n",
    "                    Q[(str(i) + str(j), str(i) + str(k))] = Q[(str(i) + str(j), str(i) + str(k))] + constr\n",
    "    #sampler = SimulatedAnnealingSampler()\n",
    "    sampler = EmbeddingComposite(DWaveSampler())\n",
    "    sampleset = sampler.sample_qubo(Q, num_reads = 1000)\n",
    "    return sampleset.first\n",
    "                "
   ]
  },
  {
   "cell_type": "code",
   "execution_count": 25,
   "metadata": {},
   "outputs": [
    {
     "name": "stdout",
     "output_type": "stream",
     "text": [
      "Sample(sample={'00': 1, '01': 0, '02': 0, '10': 0, '11': 1, '12': 0, '20': 1, '21': 0, '22': 0, '30': 0, '31': 1, '32': 0}, energy=-38.0, num_occurrences=1, chain_break_fraction=0.6666666666666666)\n"
     ]
    }
   ],
   "source": [
    "G = ([0,1,1,1], [1,0,1,0],[1,1,0,1], [1,0,1,0])\n",
    "ncolours = 3\n",
    "print(graphcolour(G,3,10))"
   ]
  },
  {
   "cell_type": "code",
   "execution_count": 26,
   "metadata": {},
   "outputs": [],
   "source": [
    "results = graphcolour(G,3,10)"
   ]
  },
  {
   "cell_type": "code",
   "execution_count": 27,
   "metadata": {},
   "outputs": [
    {
     "data": {
      "text/plain": [
       "{'00': 1,\n",
       " '01': 0,\n",
       " '02': 0,\n",
       " '10': 0,\n",
       " '11': 1,\n",
       " '12': 0,\n",
       " '20': 0,\n",
       " '21': 0,\n",
       " '22': 1,\n",
       " '30': 0,\n",
       " '31': 1,\n",
       " '32': 0}"
      ]
     },
     "execution_count": 27,
     "metadata": {},
     "output_type": "execute_result"
    }
   ],
   "source": [
    "results.sample"
   ]
  },
  {
   "cell_type": "code",
   "execution_count": null,
   "metadata": {},
   "outputs": [],
   "source": []
  }
 ],
 "metadata": {
  "kernelspec": {
   "display_name": "Python 3",
   "language": "python",
   "name": "python3"
  },
  "language_info": {
   "codemirror_mode": {
    "name": "ipython",
    "version": 3
   },
   "file_extension": ".py",
   "mimetype": "text/x-python",
   "name": "python",
   "nbconvert_exporter": "python",
   "pygments_lexer": "ipython3",
   "version": "3.6.8"
  }
 },
 "nbformat": 4,
 "nbformat_minor": 2
}
